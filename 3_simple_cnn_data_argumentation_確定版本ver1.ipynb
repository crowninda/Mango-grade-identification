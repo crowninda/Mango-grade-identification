{
  "nbformat": 4,
  "nbformat_minor": 0,
  "metadata": {
    "colab": {
      "name": "3.simple_cnn_data_argumentation_確定版本ver1.ipynb",
      "provenance": [],
      "collapsed_sections": []
    },
    "kernelspec": {
      "name": "python3",
      "display_name": "Python 3"
    },
    "accelerator": "GPU"
  },
  "cells": [
    {
      "cell_type": "code",
      "metadata": {
        "id": "u4ebaMqtv436",
        "colab_type": "code",
        "colab": {}
      },
      "source": [
        "# 做data-argumentation 看看狀況--->遇到的問題是預處理有/255忘記了，所以data-argumentation又多/255一次導致跑不出答案---->另一個問題是\n",
        "# 在fix做資訊訓練驗證時沒有用datagen.flow(...)，所以沒有真的做到argumentation--->改正ok\n",
        "# 有發現B級芒果的預測率較低，不知如何調整feature 權重，讓準確率提升"
      ],
      "execution_count": null,
      "outputs": []
    },
    {
      "cell_type": "code",
      "metadata": {
        "id": "UCct_701zYNR",
        "colab_type": "code",
        "colab": {
          "base_uri": "https://localhost:8080/",
          "height": 120
        },
        "outputId": "97a12192-e97e-416b-f586-0fdb3effbdce"
      },
      "source": [
        "# 連結google\n",
        "from google.colab import drive\n",
        "drive.mount('/content/drive')"
      ],
      "execution_count": null,
      "outputs": [
        {
          "output_type": "stream",
          "text": [
            "Go to this URL in a browser: https://accounts.google.com/o/oauth2/auth?client_id=947318989803-6bn6qk8qdgf4n4g3pfee6491hc0brc4i.apps.googleusercontent.com&redirect_uri=urn%3aietf%3awg%3aoauth%3a2.0%3aoob&response_type=code&scope=email%20https%3a%2f%2fwww.googleapis.com%2fauth%2fdocs.test%20https%3a%2f%2fwww.googleapis.com%2fauth%2fdrive%20https%3a%2f%2fwww.googleapis.com%2fauth%2fdrive.photos.readonly%20https%3a%2f%2fwww.googleapis.com%2fauth%2fpeopleapi.readonly\n",
            "\n",
            "Enter your authorization code:\n",
            "··········\n",
            "Mounted at /content/drive\n"
          ],
          "name": "stdout"
        }
      ]
    },
    {
      "cell_type": "code",
      "metadata": {
        "id": "9GFSKMHCWnX6",
        "colab_type": "code",
        "colab": {}
      },
      "source": [
        "from tensorflow import keras"
      ],
      "execution_count": null,
      "outputs": []
    },
    {
      "cell_type": "code",
      "metadata": {
        "id": "LXrC7qVNzd-u",
        "colab_type": "code",
        "colab": {
          "base_uri": "https://localhost:8080/",
          "height": 87
        },
        "outputId": "87b08ecd-44d1-4c12-ed8f-d6eaafb59729"
      },
      "source": [
        "#  載入套件\n",
        "from glob import glob\n",
        "import cv2\n",
        "import matplotlib.pyplot as plt\n",
        "import numpy as np\n",
        "from tqdm.auto import tqdm\n",
        "import keras\n",
        "import os\n",
        "import csv\n",
        "from shutil import copyfile\n",
        "from sklearn.model_selection import train_test_split\n",
        "import seaborn as sns"
      ],
      "execution_count": null,
      "outputs": [
        {
          "output_type": "stream",
          "text": [
            "Using TensorFlow backend.\n",
            "/usr/local/lib/python3.6/dist-packages/statsmodels/tools/_testing.py:19: FutureWarning: pandas.util.testing is deprecated. Use the functions in the public API at pandas.testing instead.\n",
            "  import pandas.util.testing as tm\n"
          ],
          "name": "stderr"
        }
      ]
    },
    {
      "cell_type": "code",
      "metadata": {
        "id": "HlzhjxZhEYud",
        "colab_type": "code",
        "colab": {}
      },
      "source": [
        "# tensorflow深度學習模組套件\n",
        "import tensorflow\n",
        "from tensorflow.keras import models\n",
        "from tensorflow.keras import layers\n",
        "from tensorflow import keras\n",
        "# Keras深度學習模組套件\n",
        "from keras.utils.np_utils import to_categorical\n",
        "from keras.preprocessing.image import ImageDataGenerator, array_to_img, img_to_array, load_img\n",
        "from keras.callbacks import LearningRateScheduler, ModelCheckpoint, EarlyStopping\n",
        "from keras.optimizers import RMSprop\n",
        "from keras.models import Sequential\n",
        "from keras import utils as np_utils\n",
        "from keras import backend as K\n",
        "from keras import optimizers\n",
        "from tensorflow.keras.layers import BatchNormalization\n",
        "from tensorflow.keras.callbacks import ReduceLROnPlateau, EarlyStopping, LearningRateScheduler, ModelCheckpoint\n",
        "from keras.layers import Input, Dense, Conv2D, MaxPool2D, Flatten\n",
        "from keras.models import Model"
      ],
      "execution_count": null,
      "outputs": []
    },
    {
      "cell_type": "code",
      "metadata": {
        "id": "ys22crahwmw0",
        "colab_type": "code",
        "colab": {}
      },
      "source": [
        "load_x_train = np.load('/content/drive/My Drive/Colab Notebooks/AIMango/train1_preprocess.npz')"
      ],
      "execution_count": null,
      "outputs": []
    },
    {
      "cell_type": "code",
      "metadata": {
        "id": "2tE6yldizIZM",
        "colab_type": "code",
        "colab": {}
      },
      "source": [
        "y_train = load_x_train['y']"
      ],
      "execution_count": null,
      "outputs": []
    },
    {
      "cell_type": "code",
      "metadata": {
        "id": "1eSf5siIz9LM",
        "colab_type": "code",
        "colab": {
          "base_uri": "https://localhost:8080/",
          "height": 33
        },
        "outputId": "d709e659-f23d-416e-dd17-7ebde2491a8f"
      },
      "source": [
        "print(len(load_x_train['y']))"
      ],
      "execution_count": null,
      "outputs": [
        {
          "output_type": "stream",
          "text": [
            "5600\n"
          ],
          "name": "stdout"
        }
      ]
    },
    {
      "cell_type": "code",
      "metadata": {
        "id": "sb7_2HUizMNt",
        "colab_type": "code",
        "colab": {}
      },
      "source": [
        "x_train = load_x_train['x']"
      ],
      "execution_count": null,
      "outputs": []
    },
    {
      "cell_type": "code",
      "metadata": {
        "id": "sd0qaUg2zM7N",
        "colab_type": "code",
        "colab": {}
      },
      "source": [
        "load_x_test2 = np.load('/content/drive/My Drive/Colab Notebooks/AIMango/test1_preprocess.npz')"
      ],
      "execution_count": null,
      "outputs": []
    },
    {
      "cell_type": "code",
      "metadata": {
        "id": "W7RUJrb2zSiw",
        "colab_type": "code",
        "colab": {}
      },
      "source": [
        "y_test = load_x_test2['y']"
      ],
      "execution_count": null,
      "outputs": []
    },
    {
      "cell_type": "code",
      "metadata": {
        "id": "tx9LESKAzUGN",
        "colab_type": "code",
        "colab": {}
      },
      "source": [
        "x_test = load_x_test2['x']"
      ],
      "execution_count": null,
      "outputs": []
    },
    {
      "cell_type": "code",
      "metadata": {
        "id": "9W3It6ceX19F",
        "colab_type": "code",
        "colab": {
          "base_uri": "https://localhost:8080/",
          "height": 836
        },
        "outputId": "9ce73861-63a5-4d78-bd56-865c30fb8fbe"
      },
      "source": [
        "print(x_test[0])"
      ],
      "execution_count": null,
      "outputs": [
        {
          "output_type": "stream",
          "text": [
            "[[[ 88.  93.  96.]\n",
            "  [ 83.  88.  91.]\n",
            "  [ 83.  89.  92.]\n",
            "  ...\n",
            "  [ 97.  80.  24.]\n",
            "  [ 99.  82.  25.]\n",
            "  [ 98.  81.  25.]]\n",
            "\n",
            " [[ 87.  92.  95.]\n",
            "  [ 83.  88.  91.]\n",
            "  [ 84.  89.  93.]\n",
            "  ...\n",
            "  [101.  79.  24.]\n",
            "  [104.  81.  27.]\n",
            "  [101.  78.  24.]]\n",
            "\n",
            " [[ 83.  91.  94.]\n",
            "  [ 80.  88.  90.]\n",
            "  [ 78.  86.  88.]\n",
            "  ...\n",
            "  [114.  91.  34.]\n",
            "  [111.  89.  31.]\n",
            "  [104.  82.  24.]]\n",
            "\n",
            " ...\n",
            "\n",
            " [[144. 138. 135.]\n",
            "  [145. 140. 137.]\n",
            "  [149. 143. 140.]\n",
            "  ...\n",
            "  [141. 167. 167.]\n",
            "  [134. 160. 161.]\n",
            "  [130. 156. 157.]]\n",
            "\n",
            " [[146. 137. 132.]\n",
            "  [152. 142. 140.]\n",
            "  [159. 149. 149.]\n",
            "  ...\n",
            "  [130. 156. 157.]\n",
            "  [125. 151. 152.]\n",
            "  [121. 147. 148.]]\n",
            "\n",
            " [[142. 133. 124.]\n",
            "  [143. 134. 127.]\n",
            "  [151. 141. 139.]\n",
            "  ...\n",
            "  [128. 149. 152.]\n",
            "  [123. 144. 147.]\n",
            "  [121. 142. 145.]]]\n"
          ],
          "name": "stdout"
        }
      ]
    },
    {
      "cell_type": "code",
      "metadata": {
        "id": "v46FrvwiAL0k",
        "colab_type": "code",
        "colab": {}
      },
      "source": [
        "#做一次就好_\n",
        "x_test = x_test/255.0\n",
        "x_train = x_train/255.0"
      ],
      "execution_count": null,
      "outputs": []
    },
    {
      "cell_type": "code",
      "metadata": {
        "id": "vA6L0D_wGe06",
        "colab_type": "code",
        "colab": {}
      },
      "source": [
        "y_train_cat = y_train\n",
        "y_test_cat = y_test"
      ],
      "execution_count": null,
      "outputs": []
    },
    {
      "cell_type": "code",
      "metadata": {
        "id": "iuaP0itpzvHi",
        "colab_type": "code",
        "colab": {
          "base_uri": "https://localhost:8080/",
          "height": 184
        },
        "outputId": "ca905cd0-8822-4036-8b17-44ff8c14887e"
      },
      "source": [
        "# 打映圖片訓練集的概況\n",
        "\n",
        "print(type(x_train))\n",
        "print(x_train.shape)\n",
        "\n",
        "print(x_train[0].shape)\n",
        "print(type(x_train[0]))\n",
        "print(\"\\n\")\n",
        "print(type(x_test))\n",
        "print(x_test.shape)\n",
        "\n",
        "print(x_test[0].shape)\n",
        "print(type(x_test[0]))"
      ],
      "execution_count": null,
      "outputs": [
        {
          "output_type": "stream",
          "text": [
            "<class 'numpy.ndarray'>\n",
            "(5600, 224, 224, 3)\n",
            "(224, 224, 3)\n",
            "<class 'numpy.ndarray'>\n",
            "\n",
            "\n",
            "<class 'numpy.ndarray'>\n",
            "(800, 224, 224, 3)\n",
            "(224, 224, 3)\n",
            "<class 'numpy.ndarray'>\n"
          ],
          "name": "stdout"
        }
      ]
    },
    {
      "cell_type": "code",
      "metadata": {
        "id": "Vga7TfS0a4iX",
        "colab_type": "code",
        "colab": {}
      },
      "source": [
        "# one-hot encoding\n",
        "# y_train_cat = tensorflow.keras.utils.to_categorical(y_train, num_classes=3)\n",
        "# y_test_cat = tensorflow.keras.utils.to_categorical(y_test, num_classes=3)"
      ],
      "execution_count": null,
      "outputs": []
    },
    {
      "cell_type": "code",
      "metadata": {
        "id": "Rthc-nX8dkcn",
        "colab_type": "code",
        "colab": {
          "base_uri": "https://localhost:8080/",
          "height": 33
        },
        "outputId": "dd2dece4-4f26-4277-df6e-ec372e9f7196"
      },
      "source": [
        "x_train.shape, x_test.shape, y_train_cat.shape, y_test_cat.shape"
      ],
      "execution_count": null,
      "outputs": [
        {
          "output_type": "execute_result",
          "data": {
            "text/plain": [
              "((5600, 224, 224, 3), (800, 224, 224, 3), (5600, 3), (800, 3))"
            ]
          },
          "metadata": {
            "tags": []
          },
          "execution_count": 18
        }
      ]
    },
    {
      "cell_type": "code",
      "metadata": {
        "id": "-DBNjG2fddpW",
        "colab_type": "code",
        "colab": {}
      },
      "source": [
        "# # 分配訓練集及測試集比例\n",
        "x_valid = x_test[:400]\n",
        "y_valid = y_test_cat[:400]\n",
        "x_test = x_test[400:]\n",
        "y_test = y_test_cat[400:]"
      ],
      "execution_count": null,
      "outputs": []
    },
    {
      "cell_type": "code",
      "metadata": {
        "id": "p6KD5U00Cu9O",
        "colab_type": "code",
        "colab": {}
      },
      "source": [
        "IMG_SIZE=224"
      ],
      "execution_count": null,
      "outputs": []
    },
    {
      "cell_type": "code",
      "metadata": {
        "id": "cFwlwxYPG41U",
        "colab_type": "code",
        "colab": {}
      },
      "source": [
        "# # 2 文富同學版本\n",
        "# model = Sequential()\n",
        "# model.add(Conv2D(filters=16, kernel_size=(3, 3), strides=(2, 2), padding=\"same\", input_shape=(224, 224, 3)))\n",
        "# model.add(BatchNormalization())\n",
        "# model.add(Activation(\"relu\"))\n",
        "# model.add(Conv2D(filters=32, kernel_size=(3, 3), strides=(2, 2), padding=\"same\"))\n",
        "# model.add(BatchNormalization())\n",
        "# model.add(Activation(\"relu\"))\n",
        "# model.add(Conv2D(filters=64, kernel_size=(3, 3), strides=(2, 2), padding=\"same\"))\n",
        "# model.add(BatchNormalization())\n",
        "# model.add(Activation(\"relu\"))\n",
        "# model.add(Conv2D(filters=128, kernel_size=(3, 3), strides=(2, 2), padding=\"same\"))\n",
        "# model.add(BatchNormalization())\n",
        "# model.add(Activation(\"relu\"))\n",
        "# model.add(Conv2D(filters=256, kernel_size=(3, 3), strides=(2, 2), padding=\"same\"))\n",
        "# model.add(BatchNormalization())\n",
        "# model.add(Activation(\"relu\"))\n",
        "# model.add(Conv2D(filters=512, kernel_size=(2, 2), strides=(2, 2), padding=\"same\"))\n",
        "# model.add(BatchNormalization())\n",
        "# model.add(Activation(\"relu\"))\n",
        "# model.add(GlobalAveragePooling2D())\n",
        "# # model.add(Flatten())\n",
        "# model.add(Dense(3, activation=\"softmax\"))\n",
        "# model.compile(loss=\"categorical_crossentropy\", optimizer=\"adam\", metrics=[\"accuracy\"])\n",
        "# model.summary()"
      ],
      "execution_count": null,
      "outputs": []
    },
    {
      "cell_type": "code",
      "metadata": {
        "id": "BZwnlvVrCfZo",
        "colab_type": "code",
        "colab": {}
      },
      "source": [
        "# 3 李智揚老師第一周範例版本\n",
        "inputs = Input(shape=(IMG_SIZE, IMG_SIZE, 3))\n",
        "x = Conv2D(filters=16, kernel_size=3, activation='relu')(inputs)\n",
        "x = Conv2D(filters=32, kernel_size=3, activation='relu')(x)\n",
        "x = MaxPool2D(2)(x)\n",
        "x = Conv2D(filters=64, kernel_size=3, activation='relu')(x)\n",
        "x = Conv2D(filters=128, kernel_size=3, activation='relu')(x)\n",
        "x = MaxPool2D(2)(x)\n",
        "x = Flatten()(x)\n",
        "x = Dense(64, activation=keras.activations.relu)(x)\n",
        "# x = Dense(128, activation=keras.activations.relu)(x)\n",
        "prediction = Dense(3, activation='softmax')(x)\n",
        "model = Model(inputs=inputs, outputs=prediction)"
      ],
      "execution_count": null,
      "outputs": []
    },
    {
      "cell_type": "code",
      "metadata": {
        "id": "DG8-Vo0XGowl",
        "colab_type": "code",
        "colab": {
          "base_uri": "https://localhost:8080/",
          "height": 485
        },
        "outputId": "3eed3a27-2dce-4549-fd37-b6cc988a1ae9"
      },
      "source": [
        "model.summary()"
      ],
      "execution_count": null,
      "outputs": [
        {
          "output_type": "stream",
          "text": [
            "Model: \"model_1\"\n",
            "_________________________________________________________________\n",
            "Layer (type)                 Output Shape              Param #   \n",
            "=================================================================\n",
            "input_1 (InputLayer)         (None, 224, 224, 3)       0         \n",
            "_________________________________________________________________\n",
            "conv2d_1 (Conv2D)            (None, 222, 222, 16)      448       \n",
            "_________________________________________________________________\n",
            "conv2d_2 (Conv2D)            (None, 220, 220, 32)      4640      \n",
            "_________________________________________________________________\n",
            "max_pooling2d_1 (MaxPooling2 (None, 110, 110, 32)      0         \n",
            "_________________________________________________________________\n",
            "conv2d_3 (Conv2D)            (None, 108, 108, 64)      18496     \n",
            "_________________________________________________________________\n",
            "conv2d_4 (Conv2D)            (None, 106, 106, 128)     73856     \n",
            "_________________________________________________________________\n",
            "max_pooling2d_2 (MaxPooling2 (None, 53, 53, 128)       0         \n",
            "_________________________________________________________________\n",
            "flatten_1 (Flatten)          (None, 359552)            0         \n",
            "_________________________________________________________________\n",
            "dense_1 (Dense)              (None, 64)                23011392  \n",
            "_________________________________________________________________\n",
            "dense_2 (Dense)              (None, 3)                 195       \n",
            "=================================================================\n",
            "Total params: 23,109,027\n",
            "Trainable params: 23,109,027\n",
            "Non-trainable params: 0\n",
            "_________________________________________________________________\n"
          ],
          "name": "stdout"
        }
      ]
    },
    {
      "cell_type": "code",
      "metadata": {
        "id": "jnBY37jgFKy-",
        "colab_type": "code",
        "colab": {}
      },
      "source": [
        "# adam = optimizers.adam(lr=5)\n",
        "model.compile(optimizer='adam',\n",
        "              loss=tensorflow.keras.losses.CategoricalCrossentropy(),\n",
        "              metrics=['acc'])"
      ],
      "execution_count": null,
      "outputs": []
    },
    {
      "cell_type": "code",
      "metadata": {
        "id": "lEb-OC1WFTmX",
        "colab_type": "code",
        "colab": {}
      },
      "source": [
        "# zca_whitening 對輸入數據施加ZCA白化\n",
        "# rotation_range 數據提升時圖片隨機轉動的角度\n",
        "# width_shift_range 圖片寬度的某個比例，數據提升時圖片水平偏移的幅度\n",
        "# shear_range 剪切強度（逆時針方向的剪切變換角度）\n",
        "# zoom_range 隨機縮放的幅度\n",
        "# horizontal_flip 進行隨機水平翻轉\n",
        "# fill_mode ‘constant’，‘nearest’，‘reflect’或‘wrap’之一，當進行變換時超出邊界的點將根據本參數給定的方法進行處理\n",
        "\n",
        "datagen = ImageDataGenerator(\n",
        "    zca_whitening=False,\n",
        "    rotation_range=40,\n",
        "    width_shift_range=0.2,\n",
        "    height_shift_range=0.2,\n",
        "    shear_range=0.2,\n",
        "    zoom_range=0.2,\n",
        "    horizontal_flip=True,\n",
        "    fill_mode='nearest')"
      ],
      "execution_count": null,
      "outputs": []
    },
    {
      "cell_type": "code",
      "metadata": {
        "id": "MuAYqYiLFnrE",
        "colab_type": "code",
        "colab": {
          "base_uri": "https://localhost:8080/",
          "height": 33
        },
        "outputId": "cf384964-6489-4aa3-ca45-4a71c97d3bec"
      },
      "source": [
        "# 導入圖像增強參數\n",
        "datagen.fit(x_train)\n",
        "# x_train = x_train/255\n",
        "# x_test = x_test/255\n",
        "print('rescale！done!')"
      ],
      "execution_count": null,
      "outputs": [
        {
          "output_type": "stream",
          "text": [
            "rescale！done!\n"
          ],
          "name": "stdout"
        }
      ]
    },
    {
      "cell_type": "code",
      "metadata": {
        "id": "dHnMZDAzG62p",
        "colab_type": "code",
        "colab": {}
      },
      "source": [
        "# 設定超參數HyperParameters \n",
        "batch_size =  20\n",
        "epochs = 10"
      ],
      "execution_count": null,
      "outputs": []
    },
    {
      "cell_type": "code",
      "metadata": {
        "id": "buaHT6ULG_uK",
        "colab_type": "code",
        "colab": {}
      },
      "source": [
        "# 檔名設定\n",
        "file_name = str(epochs)+'_'+str(batch_size)"
      ],
      "execution_count": null,
      "outputs": []
    },
    {
      "cell_type": "code",
      "metadata": {
        "id": "RRW87l3CHIPa",
        "colab_type": "code",
        "colab": {}
      },
      "source": [
        "# 加入EarlyStopping以及Tensorboard等回調函數\n",
        "CB = tensorflow.keras.callbacks.EarlyStopping(monitor='val_loss', patience=10)\n",
        "TB = keras.callbacks.TensorBoard(log_dir='./log'+\"_\"+file_name, histogram_freq=1)"
      ],
      "execution_count": null,
      "outputs": []
    },
    {
      "cell_type": "code",
      "metadata": {
        "id": "mwI6m2cTHNzV",
        "colab_type": "code",
        "colab": {
          "base_uri": "https://localhost:8080/",
          "height": 890
        },
        "outputId": "c882d0a2-af74-4403-ae7a-001375d71939"
      },
      "source": [
        "history = model.fit(\n",
        "                    datagen.flow(x = x_train , y = y_train_cat, batch_size = batch_size),\n",
        "                    validation_steps=32,\n",
        "                    steps_per_epoch=280,\n",
        "                    epochs=100,\n",
        "                    verbose=1,\n",
        "                    validation_data=(x_valid, y_valid),\n",
        "                    callbacks = [CB]\n",
        ")"
      ],
      "execution_count": null,
      "outputs": [
        {
          "output_type": "stream",
          "text": [
            "Epoch 1/100\n",
            "280/280 [==============================] - 93s 332ms/step - loss: 1.0147 - acc: 0.4809 - val_loss: 0.9103 - val_acc: 0.5350\n",
            "Epoch 2/100\n",
            "280/280 [==============================] - 87s 310ms/step - loss: 0.9456 - acc: 0.5302 - val_loss: 0.9169 - val_acc: 0.5425\n",
            "Epoch 3/100\n",
            "280/280 [==============================] - 87s 309ms/step - loss: 0.9262 - acc: 0.5439 - val_loss: 0.8935 - val_acc: 0.5550\n",
            "Epoch 4/100\n",
            "280/280 [==============================] - 87s 311ms/step - loss: 0.9212 - acc: 0.5504 - val_loss: 0.8988 - val_acc: 0.5600\n",
            "Epoch 5/100\n",
            "280/280 [==============================] - 87s 310ms/step - loss: 0.9221 - acc: 0.5487 - val_loss: 0.9481 - val_acc: 0.5325\n",
            "Epoch 6/100\n",
            "280/280 [==============================] - 87s 310ms/step - loss: 0.9220 - acc: 0.5525 - val_loss: 0.8752 - val_acc: 0.5575\n",
            "Epoch 7/100\n",
            "280/280 [==============================] - 87s 310ms/step - loss: 0.8907 - acc: 0.5795 - val_loss: 0.7801 - val_acc: 0.6450\n",
            "Epoch 8/100\n",
            "280/280 [==============================] - 87s 310ms/step - loss: 0.8242 - acc: 0.6068 - val_loss: 0.8114 - val_acc: 0.6325\n",
            "Epoch 9/100\n",
            "280/280 [==============================] - 87s 311ms/step - loss: 0.7575 - acc: 0.6573 - val_loss: 0.6710 - val_acc: 0.7025\n",
            "Epoch 10/100\n",
            "280/280 [==============================] - 87s 311ms/step - loss: 0.7285 - acc: 0.6677 - val_loss: 0.7055 - val_acc: 0.6625\n",
            "Epoch 11/100\n",
            "280/280 [==============================] - 87s 310ms/step - loss: 0.7046 - acc: 0.6818 - val_loss: 0.6940 - val_acc: 0.6750\n",
            "Epoch 12/100\n",
            "280/280 [==============================] - 87s 311ms/step - loss: 0.6829 - acc: 0.6973 - val_loss: 0.6129 - val_acc: 0.7375\n",
            "Epoch 13/100\n",
            "280/280 [==============================] - 87s 311ms/step - loss: 0.6713 - acc: 0.6998 - val_loss: 0.6914 - val_acc: 0.6725\n",
            "Epoch 14/100\n",
            "280/280 [==============================] - 87s 311ms/step - loss: 0.6625 - acc: 0.7018 - val_loss: 0.6216 - val_acc: 0.7225\n",
            "Epoch 15/100\n",
            "280/280 [==============================] - 87s 311ms/step - loss: 0.6423 - acc: 0.7073 - val_loss: 0.5808 - val_acc: 0.7450\n",
            "Epoch 16/100\n",
            "280/280 [==============================] - 87s 311ms/step - loss: 0.6318 - acc: 0.7236 - val_loss: 0.5642 - val_acc: 0.7600\n",
            "Epoch 17/100\n",
            "280/280 [==============================] - 87s 311ms/step - loss: 0.6275 - acc: 0.7221 - val_loss: 0.5756 - val_acc: 0.7375\n",
            "Epoch 18/100\n",
            "280/280 [==============================] - 87s 312ms/step - loss: 0.6303 - acc: 0.7180 - val_loss: 0.5968 - val_acc: 0.7350\n",
            "Epoch 19/100\n",
            "280/280 [==============================] - 87s 311ms/step - loss: 0.6311 - acc: 0.7163 - val_loss: 0.6616 - val_acc: 0.6925\n",
            "Epoch 20/100\n",
            "280/280 [==============================] - 87s 312ms/step - loss: 0.6283 - acc: 0.7204 - val_loss: 0.5973 - val_acc: 0.7325\n",
            "Epoch 21/100\n",
            "280/280 [==============================] - 87s 311ms/step - loss: 0.6113 - acc: 0.7271 - val_loss: 0.5981 - val_acc: 0.7350\n",
            "Epoch 22/100\n",
            "280/280 [==============================] - 87s 311ms/step - loss: 0.6134 - acc: 0.7284 - val_loss: 0.7285 - val_acc: 0.6425\n",
            "Epoch 23/100\n",
            "280/280 [==============================] - 87s 311ms/step - loss: 0.6085 - acc: 0.7268 - val_loss: 0.5692 - val_acc: 0.7550\n",
            "Epoch 24/100\n",
            "280/280 [==============================] - 87s 311ms/step - loss: 0.6072 - acc: 0.7293 - val_loss: 0.5780 - val_acc: 0.7475\n",
            "Epoch 25/100\n",
            "280/280 [==============================] - 87s 311ms/step - loss: 0.6007 - acc: 0.7345 - val_loss: 0.6221 - val_acc: 0.7450\n",
            "Epoch 26/100\n",
            "280/280 [==============================] - 87s 311ms/step - loss: 0.6040 - acc: 0.7345 - val_loss: 0.6013 - val_acc: 0.7325\n"
          ],
          "name": "stdout"
        }
      ]
    },
    {
      "cell_type": "code",
      "metadata": {
        "id": "r1kyQY9fPpOu",
        "colab_type": "code",
        "colab": {}
      },
      "source": [
        "import os\n",
        "# 儲存model\n",
        "dir_path = \"/content/drive/My Drive/Colab Notebooks/AIMango/Trained_model_mango/0625\"\n",
        "if os.path.exists(dir_path):\n",
        "  model.save(\"/content/drive/My Drive/Colab Notebooks/AIMango/Trained_model_mango/0625/simplecnn_argumentation.h5\")\n",
        "else:\n",
        "  os.mkdir(dir_path)\n",
        "  model.save(dir_path + \"/simplecnn_argumentation.h5\")\n",
        "\n",
        "# 儲存訓練完的accuracy, loss\n",
        "import pickle\n",
        "with open(dir_path + \"/simplecnn_argumentation.pickle\", \"wb\") as file:\n",
        "  pickle.dump(history.history, file)"
      ],
      "execution_count": null,
      "outputs": []
    },
    {
      "cell_type": "code",
      "metadata": {
        "id": "9KVwTKhKxjYT",
        "colab_type": "code",
        "colab": {}
      },
      "source": [
        "history = history.history"
      ],
      "execution_count": null,
      "outputs": []
    },
    {
      "cell_type": "code",
      "metadata": {
        "id": "8IOH4c4w20mo",
        "colab_type": "code",
        "colab": {
          "base_uri": "https://localhost:8080/",
          "height": 298
        },
        "outputId": "6491b93f-834f-4e96-9f8b-74360c06d892"
      },
      "source": [
        "plt.plot(history['acc'])\n",
        "plt.plot(history['val_acc'])\n",
        "plt.legend(['acc', 'val_acc'])\n",
        "plt.title('acc')"
      ],
      "execution_count": null,
      "outputs": [
        {
          "output_type": "execute_result",
          "data": {
            "text/plain": [
              "Text(0.5, 1.0, 'acc')"
            ]
          },
          "metadata": {
            "tags": []
          },
          "execution_count": 33
        },
        {
          "output_type": "display_data",
          "data": {
            "image/png": "[encoded data removed]",
            "text/plain": [
              "<Figure size 432x288 with 1 Axes>"
            ]
          },
          "metadata": {
            "tags": [],
            "needs_background": "light"
          }
        }
      ]
    },
    {
      "cell_type": "code",
      "metadata": {
        "id": "K1BKFCtJx8yS",
        "colab_type": "code",
        "colab": {
          "base_uri": "https://localhost:8080/",
          "height": 298
        },
        "outputId": "66a6c257-ed0d-49ee-b3a3-3fb380e4889c"
      },
      "source": [
        "plt.plot(history['loss'])\n",
        "plt.plot(history['val_loss'])\n",
        "plt.legend(['loss', 'val_loss'])\n",
        "plt.title('loss')"
      ],
      "execution_count": null,
      "outputs": [
        {
          "output_type": "execute_result",
          "data": {
            "text/plain": [
              "Text(0.5, 1.0, 'loss')"
            ]
          },
          "metadata": {
            "tags": []
          },
          "execution_count": 34
        },
        {
          "output_type": "display_data",
          "data": {
            "image/png": "[encoded data removed]",
            "text/plain": [
              "<Figure size 432x288 with 1 Axes>"
            ]
          },
          "metadata": {
            "tags": [],
            "needs_background": "light"
          }
        }
      ]
    },
    {
      "cell_type": "code",
      "metadata": {
        "id": "S9rczBpnyRQn",
        "colab_type": "code",
        "colab": {
          "base_uri": "https://localhost:8080/",
          "height": 50
        },
        "outputId": "e2fea20b-a842-4b51-889e-d0475432d591"
      },
      "source": [
        "accuracy = model.evaluate(x_test, y_test)\n",
        "accuracy"
      ],
      "execution_count": null,
      "outputs": [
        {
          "output_type": "stream",
          "text": [
            "400/400 [==============================] - 3s 6ms/step\n"
          ],
          "name": "stdout"
        },
        {
          "output_type": "execute_result",
          "data": {
            "text/plain": [
              "[0.5762557172775269, 0.7574999928474426]"
            ]
          },
          "metadata": {
            "tags": []
          },
          "execution_count": 35
        }
      ]
    },
    {
      "cell_type": "code",
      "metadata": {
        "id": "8Aq0veC4yB19",
        "colab_type": "code",
        "colab": {
          "base_uri": "https://localhost:8080/",
          "height": 321
        },
        "outputId": "1ce48c3a-0d5c-41c7-ee61-656d9d796aaa"
      },
      "source": [
        "from sklearn.metrics import classification_report, confusion_matrix\n",
        "y_true = np.argmax(y_test, axis=-1)\n",
        "y_pred = np.argmax(model.predict(x_test), axis=-1)   #argmax 將每格中最大的值丟出\n",
        "print(y_true.shape, y_pred.shape)\n",
        "target_names = [str(i) for i in range(3)]\n",
        "print(classification_report(y_true, y_pred, target_names=target_names))\n",
        "\n",
        "import pandas as pd\n",
        "from sklearn.metrics import confusion_matrix\n",
        "mat = confusion_matrix(y_true, y_pred)\n",
        "trans=[\"0\",\"1\",\"2\"]\n",
        "c = [\"{}(預測)\".format(i) for i in trans]\n",
        "i = [\"{}(真實)\".format(i) for i in trans]\n",
        "pd.DataFrame(mat, columns=c, index=i)\n",
        "# print(confusion_matrix(y_true, y_pred))\n",
        "#所以橫的是 y_pred,直的是y_true"
      ],
      "execution_count": null,
      "outputs": [
        {
          "output_type": "stream",
          "text": [
            "(400,) (400,)\n",
            "              precision    recall  f1-score   support\n",
            "\n",
            "           0       0.72      0.88      0.79       138\n",
            "           1       0.75      0.54      0.63       137\n",
            "           2       0.82      0.86      0.84       125\n",
            "\n",
            "    accuracy                           0.76       400\n",
            "   macro avg       0.76      0.76      0.75       400\n",
            "weighted avg       0.76      0.76      0.75       400\n",
            "\n"
          ],
          "name": "stdout"
        },
        {
          "output_type": "execute_result",
          "data": {
            "text/html": [
              "<div>\n",
              "<style scoped>\n",
              "    .dataframe tbody tr th:only-of-type {\n",
              "        vertical-align: middle;\n",
              "    }\n",
              "\n",
              "    .dataframe tbody tr th {\n",
              "        vertical-align: top;\n",
              "    }\n",
              "\n",
              "    .dataframe thead th {\n",
              "        text-align: right;\n",
              "    }\n",
              "</style>\n",
              "<table border=\"1\" class=\"dataframe\">\n",
              "  <thead>\n",
              "    <tr style=\"text-align: right;\">\n",
              "      <th></th>\n",
              "      <th>0(預測)</th>\n",
              "      <th>1(預測)</th>\n",
              "      <th>2(預測)</th>\n",
              "    </tr>\n",
              "  </thead>\n",
              "  <tbody>\n",
              "    <tr>\n",
              "      <th>0(真實)</th>\n",
              "      <td>122</td>\n",
              "      <td>14</td>\n",
              "      <td>2</td>\n",
              "    </tr>\n",
              "    <tr>\n",
              "      <th>1(真實)</th>\n",
              "      <td>41</td>\n",
              "      <td>74</td>\n",
              "      <td>22</td>\n",
              "    </tr>\n",
              "    <tr>\n",
              "      <th>2(真實)</th>\n",
              "      <td>7</td>\n",
              "      <td>11</td>\n",
              "      <td>107</td>\n",
              "    </tr>\n",
              "  </tbody>\n",
              "</table>\n",
              "</div>"
            ],
            "text/plain": [
              "       0(預測)  1(預測)  2(預測)\n",
              "0(真實)    122     14      2\n",
              "1(真實)     41     74     22\n",
              "2(真實)      7     11    107"
            ]
          },
          "metadata": {
            "tags": []
          },
          "execution_count": 36
        }
      ]
    }
  ]
}