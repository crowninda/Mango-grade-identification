{
  "nbformat": 4,
  "nbformat_minor": 0,
  "metadata": {
    "colab": {
      "name": "mango_cnn_simple_ver1.ipynb",
      "provenance": [],
      "collapsed_sections": []
    },
    "kernelspec": {
      "name": "python3",
      "display_name": "Python 3"
    },
    "accelerator": "GPU",
    "widgets": {
      "application/vnd.jupyter.widget-state+json": {
        "359e5d9f026744618b2a24ac4782fc66": {
          "model_module": "@jupyter-widgets/controls",
          "model_name": "HBoxModel",
          "state": {
            "_view_name": "HBoxView",
            "_dom_classes": [],
            "_model_name": "HBoxModel",
            "_view_module": "@jupyter-widgets/controls",
            "_model_module_version": "1.5.0",
            "_view_count": null,
            "_view_module_version": "1.5.0",
            "box_style": "",
            "layout": "IPY_MODEL_6ff938678d184d8caf6a18674db6fe8e",
            "_model_module": "@jupyter-widgets/controls",
            "children": [
              "IPY_MODEL_5992ffeb372c4ce0a06a01b218931967",
              "IPY_MODEL_1b4ca18226ee485d8e21a5b56ae36eab"
            ]
          }
        },
        "6ff938678d184d8caf6a18674db6fe8e": {
          "model_module": "@jupyter-widgets/base",
          "model_name": "LayoutModel",
          "state": {
            "_view_name": "LayoutView",
            "grid_template_rows": null,
            "right": null,
            "justify_content": null,
            "_view_module": "@jupyter-widgets/base",
            "overflow": null,
            "_model_module_version": "1.2.0",
            "_view_count": null,
            "flex_flow": null,
            "width": null,
            "min_width": null,
            "border": null,
            "align_items": null,
            "bottom": null,
            "_model_module": "@jupyter-widgets/base",
            "top": null,
            "grid_column": null,
            "overflow_y": null,
            "overflow_x": null,
            "grid_auto_flow": null,
            "grid_area": null,
            "grid_template_columns": null,
            "flex": null,
            "_model_name": "LayoutModel",
            "justify_items": null,
            "grid_row": null,
            "max_height": null,
            "align_content": null,
            "visibility": null,
            "align_self": null,
            "height": null,
            "min_height": null,
            "padding": null,
            "grid_auto_rows": null,
            "grid_gap": null,
            "max_width": null,
            "order": null,
            "_view_module_version": "1.2.0",
            "grid_template_areas": null,
            "object_position": null,
            "object_fit": null,
            "grid_auto_columns": null,
            "margin": null,
            "display": null,
            "left": null
          }
        },
        "5992ffeb372c4ce0a06a01b218931967": {
          "model_module": "@jupyter-widgets/controls",
          "model_name": "FloatProgressModel",
          "state": {
            "_view_name": "ProgressView",
            "style": "IPY_MODEL_c292a71c65e8405ca4df5cec6807a44b",
            "_dom_classes": [],
            "description": "",
            "_model_name": "FloatProgressModel",
            "bar_style": "success",
            "max": 1,
            "_view_module": "@jupyter-widgets/controls",
            "_model_module_version": "1.5.0",
            "value": 1,
            "_view_count": null,
            "_view_module_version": "1.5.0",
            "orientation": "horizontal",
            "min": 0,
            "description_tooltip": null,
            "_model_module": "@jupyter-widgets/controls",
            "layout": "IPY_MODEL_ddb7517cc56b49cc910bd7fef97742b4"
          }
        },
        "1b4ca18226ee485d8e21a5b56ae36eab": {
          "model_module": "@jupyter-widgets/controls",
          "model_name": "HTMLModel",
          "state": {
            "_view_name": "HTMLView",
            "style": "IPY_MODEL_d5135e9dafd844ca96333826630bc653",
            "_dom_classes": [],
            "description": "",
            "_model_name": "HTMLModel",
            "placeholder": "​",
            "_view_module": "@jupyter-widgets/controls",
            "_model_module_version": "1.5.0",
            "value": " 5600/? [1:09:17&lt;00:00,  1.35it/s]",
            "_view_count": null,
            "_view_module_version": "1.5.0",
            "description_tooltip": null,
            "_model_module": "@jupyter-widgets/controls",
            "layout": "IPY_MODEL_c816ad97b70948dab08ff0463fa8ceb2"
          }
        },
        "c292a71c65e8405ca4df5cec6807a44b": {
          "model_module": "@jupyter-widgets/controls",
          "model_name": "ProgressStyleModel",
          "state": {
            "_view_name": "StyleView",
            "_model_name": "ProgressStyleModel",
            "description_width": "initial",
            "_view_module": "@jupyter-widgets/base",
            "_model_module_version": "1.5.0",
            "_view_count": null,
            "_view_module_version": "1.2.0",
            "bar_color": null,
            "_model_module": "@jupyter-widgets/controls"
          }
        },
        "ddb7517cc56b49cc910bd7fef97742b4": {
          "model_module": "@jupyter-widgets/base",
          "model_name": "LayoutModel",
          "state": {
            "_view_name": "LayoutView",
            "grid_template_rows": null,
            "right": null,
            "justify_content": null,
            "_view_module": "@jupyter-widgets/base",
            "overflow": null,
            "_model_module_version": "1.2.0",
            "_view_count": null,
            "flex_flow": null,
            "width": null,
            "min_width": null,
            "border": null,
            "align_items": null,
            "bottom": null,
            "_model_module": "@jupyter-widgets/base",
            "top": null,
            "grid_column": null,
            "overflow_y": null,
            "overflow_x": null,
            "grid_auto_flow": null,
            "grid_area": null,
            "grid_template_columns": null,
            "flex": null,
            "_model_name": "LayoutModel",
            "justify_items": null,
            "grid_row": null,
            "max_height": null,
            "align_content": null,
            "visibility": null,
            "align_self": null,
            "height": null,
            "min_height": null,
            "padding": null,
            "grid_auto_rows": null,
            "grid_gap": null,
            "max_width": null,
            "order": null,
            "_view_module_version": "1.2.0",
            "grid_template_areas": null,
            "object_position": null,
            "object_fit": null,
            "grid_auto_columns": null,
            "margin": null,
            "display": null,
            "left": null
          }
        },
        "d5135e9dafd844ca96333826630bc653": {
          "model_module": "@jupyter-widgets/controls",
          "model_name": "DescriptionStyleModel",
          "state": {
            "_view_name": "StyleView",
            "_model_name": "DescriptionStyleModel",
            "description_width": "",
            "_view_module": "@jupyter-widgets/base",
            "_model_module_version": "1.5.0",
            "_view_count": null,
            "_view_module_version": "1.2.0",
            "_model_module": "@jupyter-widgets/controls"
          }
        },
        "c816ad97b70948dab08ff0463fa8ceb2": {
          "model_module": "@jupyter-widgets/base",
          "model_name": "LayoutModel",
          "state": {
            "_view_name": "LayoutView",
            "grid_template_rows": null,
            "right": null,
            "justify_content": null,
            "_view_module": "@jupyter-widgets/base",
            "overflow": null,
            "_model_module_version": "1.2.0",
            "_view_count": null,
            "flex_flow": null,
            "width": null,
            "min_width": null,
            "border": null,
            "align_items": null,
            "bottom": null,
            "_model_module": "@jupyter-widgets/base",
            "top": null,
            "grid_column": null,
            "overflow_y": null,
            "overflow_x": null,
            "grid_auto_flow": null,
            "grid_area": null,
            "grid_template_columns": null,
            "flex": null,
            "_model_name": "LayoutModel",
            "justify_items": null,
            "grid_row": null,
            "max_height": null,
            "align_content": null,
            "visibility": null,
            "align_self": null,
            "height": null,
            "min_height": null,
            "padding": null,
            "grid_auto_rows": null,
            "grid_gap": null,
            "max_width": null,
            "order": null,
            "_view_module_version": "1.2.0",
            "grid_template_areas": null,
            "object_position": null,
            "object_fit": null,
            "grid_auto_columns": null,
            "margin": null,
            "display": null,
            "left": null
          }
        },
        "4ca3d4640c144762b9e9a1568b5689e6": {
          "model_module": "@jupyter-widgets/controls",
          "model_name": "HBoxModel",
          "state": {
            "_view_name": "HBoxView",
            "_dom_classes": [],
            "_model_name": "HBoxModel",
            "_view_module": "@jupyter-widgets/controls",
            "_model_module_version": "1.5.0",
            "_view_count": null,
            "_view_module_version": "1.5.0",
            "box_style": "",
            "layout": "IPY_MODEL_013117ee0355415080daa9f413a4ba78",
            "_model_module": "@jupyter-widgets/controls",
            "children": [
              "IPY_MODEL_f12ad46b85b643dabc32fb8954f75490",
              "IPY_MODEL_65fb717d5174449da88ba8e6438cc756"
            ]
          }
        },
        "013117ee0355415080daa9f413a4ba78": {
          "model_module": "@jupyter-widgets/base",
          "model_name": "LayoutModel",
          "state": {
            "_view_name": "LayoutView",
            "grid_template_rows": null,
            "right": null,
            "justify_content": null,
            "_view_module": "@jupyter-widgets/base",
            "overflow": null,
            "_model_module_version": "1.2.0",
            "_view_count": null,
            "flex_flow": null,
            "width": null,
            "min_width": null,
            "border": null,
            "align_items": null,
            "bottom": null,
            "_model_module": "@jupyter-widgets/base",
            "top": null,
            "grid_column": null,
            "overflow_y": null,
            "overflow_x": null,
            "grid_auto_flow": null,
            "grid_area": null,
            "grid_template_columns": null,
            "flex": null,
            "_model_name": "LayoutModel",
            "justify_items": null,
            "grid_row": null,
            "max_height": null,
            "align_content": null,
            "visibility": null,
            "align_self": null,
            "height": null,
            "min_height": null,
            "padding": null,
            "grid_auto_rows": null,
            "grid_gap": null,
            "max_width": null,
            "order": null,
            "_view_module_version": "1.2.0",
            "grid_template_areas": null,
            "object_position": null,
            "object_fit": null,
            "grid_auto_columns": null,
            "margin": null,
            "display": null,
            "left": null
          }
        },
        "f12ad46b85b643dabc32fb8954f75490": {
          "model_module": "@jupyter-widgets/controls",
          "model_name": "FloatProgressModel",
          "state": {
            "_view_name": "ProgressView",
            "style": "IPY_MODEL_ade58c5de5b8433ab4f24c3b6a689223",
            "_dom_classes": [],
            "description": "",
            "_model_name": "FloatProgressModel",
            "bar_style": "success",
            "max": 1,
            "_view_module": "@jupyter-widgets/controls",
            "_model_module_version": "1.5.0",
            "value": 1,
            "_view_count": null,
            "_view_module_version": "1.5.0",
            "orientation": "horizontal",
            "min": 0,
            "description_tooltip": null,
            "_model_module": "@jupyter-widgets/controls",
            "layout": "IPY_MODEL_2e8bb83d4a914e279a4be1bfa91ada10"
          }
        },
        "65fb717d5174449da88ba8e6438cc756": {
          "model_module": "@jupyter-widgets/controls",
          "model_name": "HTMLModel",
          "state": {
            "_view_name": "HTMLView",
            "style": "IPY_MODEL_5663f9f730594441afee3d45ede18d2c",
            "_dom_classes": [],
            "description": "",
            "_model_name": "HTMLModel",
            "placeholder": "​",
            "_view_module": "@jupyter-widgets/controls",
            "_model_module_version": "1.5.0",
            "value": " 800/? [11:54&lt;00:00,  1.12it/s]",
            "_view_count": null,
            "_view_module_version": "1.5.0",
            "description_tooltip": null,
            "_model_module": "@jupyter-widgets/controls",
            "layout": "IPY_MODEL_46bea67aaa5945b79c598e658bf27783"
          }
        },
        "ade58c5de5b8433ab4f24c3b6a689223": {
          "model_module": "@jupyter-widgets/controls",
          "model_name": "ProgressStyleModel",
          "state": {
            "_view_name": "StyleView",
            "_model_name": "ProgressStyleModel",
            "description_width": "initial",
            "_view_module": "@jupyter-widgets/base",
            "_model_module_version": "1.5.0",
            "_view_count": null,
            "_view_module_version": "1.2.0",
            "bar_color": null,
            "_model_module": "@jupyter-widgets/controls"
          }
        },
        "2e8bb83d4a914e279a4be1bfa91ada10": {
          "model_module": "@jupyter-widgets/base",
          "model_name": "LayoutModel",
          "state": {
            "_view_name": "LayoutView",
            "grid_template_rows": null,
            "right": null,
            "justify_content": null,
            "_view_module": "@jupyter-widgets/base",
            "overflow": null,
            "_model_module_version": "1.2.0",
            "_view_count": null,
            "flex_flow": null,
            "width": null,
            "min_width": null,
            "border": null,
            "align_items": null,
            "bottom": null,
            "_model_module": "@jupyter-widgets/base",
            "top": null,
            "grid_column": null,
            "overflow_y": null,
            "overflow_x": null,
            "grid_auto_flow": null,
            "grid_area": null,
            "grid_template_columns": null,
            "flex": null,
            "_model_name": "LayoutModel",
            "justify_items": null,
            "grid_row": null,
            "max_height": null,
            "align_content": null,
            "visibility": null,
            "align_self": null,
            "height": null,
            "min_height": null,
            "padding": null,
            "grid_auto_rows": null,
            "grid_gap": null,
            "max_width": null,
            "order": null,
            "_view_module_version": "1.2.0",
            "grid_template_areas": null,
            "object_position": null,
            "object_fit": null,
            "grid_auto_columns": null,
            "margin": null,
            "display": null,
            "left": null
          }
        },
        "5663f9f730594441afee3d45ede18d2c": {
          "model_module": "@jupyter-widgets/controls",
          "model_name": "DescriptionStyleModel",
          "state": {
            "_view_name": "StyleView",
            "_model_name": "DescriptionStyleModel",
            "description_width": "",
            "_view_module": "@jupyter-widgets/base",
            "_model_module_version": "1.5.0",
            "_view_count": null,
            "_view_module_version": "1.2.0",
            "_model_module": "@jupyter-widgets/controls"
          }
        },
        "46bea67aaa5945b79c598e658bf27783": {
          "model_module": "@jupyter-widgets/base",
          "model_name": "LayoutModel",
          "state": {
            "_view_name": "LayoutView",
            "grid_template_rows": null,
            "right": null,
            "justify_content": null,
            "_view_module": "@jupyter-widgets/base",
            "overflow": null,
            "_model_module_version": "1.2.0",
            "_view_count": null,
            "flex_flow": null,
            "width": null,
            "min_width": null,
            "border": null,
            "align_items": null,
            "bottom": null,
            "_model_module": "@jupyter-widgets/base",
            "top": null,
            "grid_column": null,
            "overflow_y": null,
            "overflow_x": null,
            "grid_auto_flow": null,
            "grid_area": null,
            "grid_template_columns": null,
            "flex": null,
            "_model_name": "LayoutModel",
            "justify_items": null,
            "grid_row": null,
            "max_height": null,
            "align_content": null,
            "visibility": null,
            "align_self": null,
            "height": null,
            "min_height": null,
            "padding": null,
            "grid_auto_rows": null,
            "grid_gap": null,
            "max_width": null,
            "order": null,
            "_view_module_version": "1.2.0",
            "grid_template_areas": null,
            "object_position": null,
            "object_fit": null,
            "grid_auto_columns": null,
            "margin": null,
            "display": null,
            "left": null
          }
        }
      }
    }
  },
  "cells": [
    {
      "cell_type": "code",
      "metadata": {
        "id": "9F_GKz_c6UGW",
        "colab_type": "code",
        "colab": {}
      },
      "source": [
        "# 目前遇到的問題是不會資料預處理 ----->跑模型數字怪怪的  確認不是模型的問題---->重新確認預處理資料哪裡有問題\n",
        "# 將資料存到numpy 的 npz檔 之後------>ok\n",
        "# 要做image generate"
      ],
      "execution_count": 0,
      "outputs": []
    },
    {
      "cell_type": "code",
      "metadata": {
        "id": "W00LFt7-CAYi",
        "colab_type": "code",
        "outputId": "d9f69f0f-7d5a-4635-b98a-61b6b9b64da0",
        "colab": {
          "base_uri": "https://localhost:8080/",
          "height": 34
        }
      },
      "source": [
        "from google.colab import drive\n",
        "drive.mount('/content/drive')"
      ],
      "execution_count": 0,
      "outputs": [
        {
          "output_type": "stream",
          "text": [
            "Drive already mounted at /content/drive; to attempt to forcibly remount, call drive.mount(\"/content/drive\", force_remount=True).\n"
          ],
          "name": "stdout"
        }
      ]
    },
    {
      "cell_type": "code",
      "metadata": {
        "id": "s5PP5EmSoxU1",
        "colab_type": "code",
        "colab": {}
      },
      "source": [
        "#  載入套件\n",
        "from glob import glob\n",
        "import cv2\n",
        "import matplotlib.pyplot as plt\n",
        "import numpy as np\n",
        "import seaborn as sns\n",
        "from tqdm.auto import tqdm\n",
        "import keras\n",
        "import os\n",
        "import csv\n",
        "from shutil import copyfile\n",
        "from tensorflow.keras.layers import Input, Dense, Conv2D, MaxPool2D, Flatten, Activation\n",
        "from tensorflow.keras.models import Model\n",
        "from sklearn.model_selection import train_test_split\n",
        "from tensorflow.keras.layers import BatchNormalization\n",
        "from tensorflow.keras.layers import GlobalAveragePooling2D \n",
        "from tensorflow.keras.models import Sequential, Model"
      ],
      "execution_count": 0,
      "outputs": []
    },
    {
      "cell_type": "code",
      "metadata": {
        "id": "ObUNt81oe-o4",
        "colab_type": "code",
        "colab": {}
      },
      "source": [
        "IMG_SIZE = 224\n",
        "class_map = {'A':0, 'B': 1, 'C': 2}"
      ],
      "execution_count": 0,
      "outputs": []
    },
    {
      "cell_type": "code",
      "metadata": {
        "id": "yVbh_XX8fgUw",
        "colab_type": "code",
        "outputId": "aa249aab-93ee-4a72-a56f-ce36d1b99c9a",
        "colab": {
          "base_uri": "https://localhost:8080/",
          "height": 82,
          "referenced_widgets": [
            "359e5d9f026744618b2a24ac4782fc66",
            "6ff938678d184d8caf6a18674db6fe8e",
            "5992ffeb372c4ce0a06a01b218931967",
            "1b4ca18226ee485d8e21a5b56ae36eab",
            "c292a71c65e8405ca4df5cec6807a44b",
            "ddb7517cc56b49cc910bd7fef97742b4",
            "d5135e9dafd844ca96333826630bc653",
            "c816ad97b70948dab08ff0463fa8ceb2"
          ]
        }
      },
      "source": [
        "data_path = 'drive/My Drive/Colab Notebooks/AIMango/train/*/*.jpg' \n",
        "img_paths = glob(data_path)\n",
        "\n",
        "\n",
        "data_count = len(img_paths)\n",
        "print(data_count)\n",
        "x = np.zeros((data_count, IMG_SIZE, IMG_SIZE, 3))\n",
        "x = np.float32(x)\n",
        "y = np.zeros((data_count, ))\n",
        "\n",
        "# plt.imshow(img)\n",
        "for i, path in tqdm(enumerate(img_paths)):  #TQDM進度條\n",
        "    img = cv2.imread(path)\n",
        "    img = img / 255. # normalize 0~255 -> 0~1\n",
        "    img = img[:,:,::-1] #BGR -> RGB\n",
        "    img_resize = cv2.resize(img, (IMG_SIZE, IMG_SIZE))\n",
        "    # img_resize = img_resize.astype(np.float32)\n",
        "    \n",
        "    cls = path.split('/')[-2]\n",
        "    \n",
        "    x[i] = img_resize\n",
        "    y[i] = class_map[cls]"
      ],
      "execution_count": 0,
      "outputs": [
        {
          "output_type": "stream",
          "text": [
            "5600\n"
          ],
          "name": "stdout"
        },
        {
          "output_type": "display_data",
          "data": {
            "application/vnd.jupyter.widget-view+json": {
              "model_id": "359e5d9f026744618b2a24ac4782fc66",
              "version_minor": 0,
              "version_major": 2
            },
            "text/plain": [
              "HBox(children=(FloatProgress(value=1.0, bar_style='info', max=1.0), HTML(value='')))"
            ]
          },
          "metadata": {
            "tags": []
          }
        },
        {
          "output_type": "stream",
          "text": [
            "\n"
          ],
          "name": "stdout"
        }
      ]
    },
    {
      "cell_type": "code",
      "metadata": {
        "id": "cXIH0qLKrWhC",
        "colab_type": "code",
        "outputId": "2943b675-93da-45ac-9afa-866f7071965a",
        "colab": {
          "base_uri": "https://localhost:8080/",
          "height": 50
        }
      },
      "source": [
        "print(y.shape)\n",
        "print(x.shape)"
      ],
      "execution_count": 0,
      "outputs": [
        {
          "output_type": "stream",
          "text": [
            "(5600,)\n",
            "(5600, 224, 224, 3)\n"
          ],
          "name": "stdout"
        }
      ]
    },
    {
      "cell_type": "code",
      "metadata": {
        "id": "l6WhSAqFU964",
        "colab_type": "code",
        "colab": {}
      },
      "source": [
        "np.savez('/content/drive/My Drive/Colab Notebooks/AIMango/x_train1_1.npz', x=x, y=y)"
      ],
      "execution_count": 0,
      "outputs": []
    },
    {
      "cell_type": "code",
      "metadata": {
        "id": "hxEpoIhMYaCT",
        "colab_type": "code",
        "colab": {}
      },
      "source": [
        "load_x_train = np.load('/content/drive/My Drive/Colab Notebooks/AIMango/x_train1_1.npz')"
      ],
      "execution_count": 0,
      "outputs": []
    },
    {
      "cell_type": "code",
      "metadata": {
        "id": "Vcd9-sfwYtIS",
        "colab_type": "code",
        "colab": {}
      },
      "source": [
        "y = load_x_train['y']"
      ],
      "execution_count": 0,
      "outputs": []
    },
    {
      "cell_type": "code",
      "metadata": {
        "id": "ebTXSJknrP2P",
        "colab_type": "code",
        "colab": {}
      },
      "source": [
        "x = load_x_train['x']"
      ],
      "execution_count": 0,
      "outputs": []
    },
    {
      "cell_type": "code",
      "metadata": {
        "id": "WbPPhjVe4WUV",
        "colab_type": "code",
        "outputId": "384f9a35-26b5-40a0-be9b-fcb3877bab75",
        "colab": {
          "base_uri": "https://localhost:8080/",
          "height": 82,
          "referenced_widgets": [
            "4ca3d4640c144762b9e9a1568b5689e6",
            "013117ee0355415080daa9f413a4ba78",
            "f12ad46b85b643dabc32fb8954f75490",
            "65fb717d5174449da88ba8e6438cc756",
            "ade58c5de5b8433ab4f24c3b6a689223",
            "2e8bb83d4a914e279a4be1bfa91ada10",
            "5663f9f730594441afee3d45ede18d2c",
            "46bea67aaa5945b79c598e658bf27783"
          ]
        }
      },
      "source": [
        "data_path2 = 'drive/My Drive/Colab Notebooks/AIMango/dev/*/*.jpg'\n",
        "img_paths2 = glob(data_path2)\n",
        "\n",
        "data_count2 = len(img_paths2)\n",
        "print(data_count2)\n",
        "x2 = np.zeros((data_count2, IMG_SIZE, IMG_SIZE, 3))\n",
        "x2 = np.float32(x2)\n",
        "y2 = np.zeros((data_count2, ))\n",
        "\n",
        "for i, path in tqdm(enumerate(img_paths2)):  #TQDM進度條\n",
        "    img2 = cv2.imread(path)\n",
        "    img2 = img2 / 255. # normalize 0~255 -> 0~1\n",
        "    img2 = img2[:,:,::-1] #BGR -> RGB\n",
        "    img2_resize = cv2.resize(img2, (IMG_SIZE, IMG_SIZE))\n",
        "\n",
        "    cls = path.split('/')[-2]\n",
        "    \n",
        "    x2[i] = img2_resize\n",
        "    y2[i] = class_map[cls]"
      ],
      "execution_count": 0,
      "outputs": [
        {
          "output_type": "stream",
          "text": [
            "800\n"
          ],
          "name": "stdout"
        },
        {
          "output_type": "display_data",
          "data": {
            "application/vnd.jupyter.widget-view+json": {
              "model_id": "4ca3d4640c144762b9e9a1568b5689e6",
              "version_minor": 0,
              "version_major": 2
            },
            "text/plain": [
              "HBox(children=(FloatProgress(value=1.0, bar_style='info', max=1.0), HTML(value='')))"
            ]
          },
          "metadata": {
            "tags": []
          }
        },
        {
          "output_type": "stream",
          "text": [
            "\n"
          ],
          "name": "stdout"
        }
      ]
    },
    {
      "cell_type": "code",
      "metadata": {
        "id": "eVCkW975mdlD",
        "colab_type": "code",
        "outputId": "6a9e158c-8920-4c4d-8641-f75270adf6c7",
        "colab": {
          "base_uri": "https://localhost:8080/",
          "height": 50
        }
      },
      "source": [
        "print(\"type-x:\",type(x2[0][0][0][0]))\n",
        "print(\"type-y:\",type(y2))"
      ],
      "execution_count": 0,
      "outputs": [
        {
          "output_type": "stream",
          "text": [
            "type-x: <class 'numpy.float32'>\n",
            "type-y: <class 'numpy.ndarray'>\n"
          ],
          "name": "stdout"
        }
      ]
    },
    {
      "cell_type": "code",
      "metadata": {
        "id": "G2DSvI9ngBJl",
        "colab_type": "code",
        "colab": {}
      },
      "source": [
        "np.savez('/content/drive/My Drive/Colab Notebooks/AIMango/x_test1_1.npz', a=x2, b=y2)"
      ],
      "execution_count": 0,
      "outputs": []
    },
    {
      "cell_type": "code",
      "metadata": {
        "id": "1HeUd44AvcBC",
        "colab_type": "code",
        "colab": {}
      },
      "source": [
        "load_x_test2 = np.load('/content/drive/My Drive/Colab Notebooks/AIMango/x_test1_1.npz')"
      ],
      "execution_count": 0,
      "outputs": []
    },
    {
      "cell_type": "code",
      "metadata": {
        "id": "bpZRc7qZgJ0q",
        "colab_type": "code",
        "colab": {}
      },
      "source": [
        "y2 = load_x_test2['b']\n",
        "x2 = load_x_test2['a']"
      ],
      "execution_count": 0,
      "outputs": []
    },
    {
      "cell_type": "code",
      "metadata": {
        "id": "Nr0iLFnmtq9B",
        "colab_type": "code",
        "outputId": "76b817a4-d6c9-4cc8-e396-b275c4971b4b",
        "colab": {
          "base_uri": "https://localhost:8080/",
          "height": 50
        }
      },
      "source": [
        "print(y2.shape)\n",
        "print(x2.shape)"
      ],
      "execution_count": 0,
      "outputs": [
        {
          "output_type": "stream",
          "text": [
            "(800,)\n",
            "(800, 224, 224, 3)\n"
          ],
          "name": "stdout"
        }
      ]
    },
    {
      "cell_type": "code",
      "metadata": {
        "id": "eWv5Ne8TalzX",
        "colab_type": "code",
        "colab": {}
      },
      "source": [
        "# 打映圖片訓練集的概況\n",
        "print(type(x))\n",
        "print(x.shape)\n",
        "\n",
        "print(x[0].shape)\n",
        "print(type(x[0]))"
      ],
      "execution_count": 0,
      "outputs": []
    },
    {
      "cell_type": "code",
      "metadata": {
        "id": "4KHDccfbfkKK",
        "colab_type": "code",
        "outputId": "47a66a37-605d-47f2-cad1-8473aea804f4",
        "colab": {
          "base_uri": "https://localhost:8080/",
          "height": 34
        }
      },
      "source": [
        "# label count\n",
        "unique, counts = np.unique(y, return_counts=True)\n",
        "dict(zip(unique, counts))\n",
        "\n",
        "# label count\n",
        "unique, counts = np.unique(y2, return_counts=True)\n",
        "dict(zip(unique, counts))"
      ],
      "execution_count": 0,
      "outputs": [
        {
          "output_type": "execute_result",
          "data": {
            "text/plain": [
              "{0.0: 243, 1.0: 293, 2.0: 264}"
            ]
          },
          "metadata": {
            "tags": []
          },
          "execution_count": 26
        }
      ]
    },
    {
      "cell_type": "code",
      "metadata": {
        "id": "YAW9I5a9iPub",
        "colab_type": "code",
        "colab": {}
      },
      "source": [
        "# 打映圖片標籤的概況\n",
        "# print(y[0])\n",
        "# print(type(y[0]))"
      ],
      "execution_count": 0,
      "outputs": []
    },
    {
      "cell_type": "code",
      "metadata": {
        "id": "9z2Xk2Ltfni6",
        "colab_type": "code",
        "colab": {}
      },
      "source": [
        "# X = X/255\n",
        "import tensorflow\n",
        "y_train_cat = tensorflow.keras.utils.to_categorical(y, num_classes=3)\n",
        "\n",
        "# X = X/255\n",
        "y_test_cat = tensorflow.keras.utils.to_categorical(y2, num_classes=3)"
      ],
      "execution_count": 0,
      "outputs": []
    },
    {
      "cell_type": "code",
      "metadata": {
        "id": "2Ppqa6xvt7Bt",
        "colab_type": "code",
        "outputId": "fe37dc44-a218-4ff8-97dc-0d9b67cc1bed",
        "colab": {
          "base_uri": "https://localhost:8080/",
          "height": 134
        }
      },
      "source": [
        "print(y_test_cat)"
      ],
      "execution_count": 0,
      "outputs": [
        {
          "output_type": "stream",
          "text": [
            "[[1. 0. 0.]\n",
            " [1. 0. 0.]\n",
            " [1. 0. 0.]\n",
            " ...\n",
            " [0. 0. 1.]\n",
            " [0. 0. 1.]\n",
            " [0. 0. 1.]]\n"
          ],
          "name": "stdout"
        }
      ]
    },
    {
      "cell_type": "code",
      "metadata": {
        "id": "skjEUenXu2nJ",
        "colab_type": "code",
        "outputId": "990bc48d-4bac-47ae-d6ec-c59611ab4619",
        "colab": {
          "base_uri": "https://localhost:8080/",
          "height": 50
        }
      },
      "source": [
        "print(y_train_cat.shape)\n",
        "print(y_test_cat.shape)"
      ],
      "execution_count": 0,
      "outputs": [
        {
          "output_type": "stream",
          "text": [
            "(5600, 3)\n",
            "(800, 3)\n"
          ],
          "name": "stdout"
        }
      ]
    },
    {
      "cell_type": "code",
      "metadata": {
        "id": "78ypw_2ujRLA",
        "colab_type": "code",
        "colab": {}
      },
      "source": [
        "# # 分配訓練集及測試集比例\n",
        "x_valid = x2[:400]\n",
        "y_valid = y_test_cat[:400]\n",
        "x_test = x2[400:]\n",
        "y_test = y_test_cat[400:]\n",
        "# x_train = X\n",
        "# y_train = y_onehot\n",
        "# x_test = X2\n",
        "# y_test = y2_onehot"
      ],
      "execution_count": 0,
      "outputs": []
    },
    {
      "cell_type": "code",
      "metadata": {
        "id": "rCkAPG81lCF9",
        "colab_type": "code",
        "outputId": "c655673a-f2bb-4142-fd45-1bbdf8203fdd",
        "colab": {
          "base_uri": "https://localhost:8080/",
          "height": 84
        }
      },
      "source": [
        "print(x.shape)\n",
        "print(y.shape)\n",
        "print(x_test.shape)\n",
        "print(y_test.shape)"
      ],
      "execution_count": 0,
      "outputs": [
        {
          "output_type": "stream",
          "text": [
            "(5600, 224, 224, 3)\n",
            "(5600,)\n",
            "(400, 224, 224, 3)\n",
            "(400, 3)\n"
          ],
          "name": "stdout"
        }
      ]
    },
    {
      "cell_type": "code",
      "metadata": {
        "id": "xV25PTwyu5NC",
        "colab_type": "code",
        "colab": {}
      },
      "source": [
        "# print(x_train[0])"
      ],
      "execution_count": 0,
      "outputs": []
    },
    {
      "cell_type": "code",
      "metadata": {
        "id": "t_WANoWQvCbR",
        "colab_type": "code",
        "colab": {}
      },
      "source": [
        "# 將上面資料轉成圖片及檔案名出來"
      ],
      "execution_count": 0,
      "outputs": []
    },
    {
      "cell_type": "code",
      "metadata": {
        "id": "p8hWZiazjd4y",
        "colab_type": "code",
        "outputId": "9f975e8d-aca6-4f6d-c2b0-cbc135943bee",
        "colab": {
          "base_uri": "https://localhost:8080/",
          "height": 162
        }
      },
      "source": [
        "x_train.shape, x_test.shape, y_train.shape, y_test.shape"
      ],
      "execution_count": 0,
      "outputs": [
        {
          "output_type": "error",
          "ename": "NameError",
          "evalue": "ignored",
          "traceback": [
            "\u001b[0;31m---------------------------------------------------------------------------\u001b[0m",
            "\u001b[0;31mNameError\u001b[0m                                 Traceback (most recent call last)",
            "\u001b[0;32m<ipython-input-31-16001c4ebdbb>\u001b[0m in \u001b[0;36m<module>\u001b[0;34m()\u001b[0m\n\u001b[0;32m----> 1\u001b[0;31m \u001b[0mx_train\u001b[0m\u001b[0;34m.\u001b[0m\u001b[0mshape\u001b[0m\u001b[0;34m,\u001b[0m \u001b[0mx_test\u001b[0m\u001b[0;34m.\u001b[0m\u001b[0mshape\u001b[0m\u001b[0;34m,\u001b[0m \u001b[0my_train\u001b[0m\u001b[0;34m.\u001b[0m\u001b[0mshape\u001b[0m\u001b[0;34m,\u001b[0m \u001b[0my_test\u001b[0m\u001b[0;34m.\u001b[0m\u001b[0mshape\u001b[0m\u001b[0;34m\u001b[0m\u001b[0;34m\u001b[0m\u001b[0m\n\u001b[0m",
            "\u001b[0;31mNameError\u001b[0m: name 'x_train' is not defined"
          ]
        }
      ]
    },
    {
      "cell_type": "code",
      "metadata": {
        "id": "slbad-5MwEdM",
        "colab_type": "code",
        "colab": {}
      },
      "source": [
        "IMG_SIZE=224"
      ],
      "execution_count": 0,
      "outputs": []
    },
    {
      "cell_type": "code",
      "metadata": {
        "id": "uKt2HibYfvhy",
        "colab_type": "code",
        "colab": {}
      },
      "source": [
        "# # 1\n",
        "# inputs = Input(shape=(IMG_SIZE, IMG_SIZE, 3))\n",
        "# x = Conv2D(filters=16, kernel_size=3, activation='relu')(inputs)\n",
        "# x = BatchNormalization()(x)\n",
        "# x = Conv2D(filters=32, kernel_size=3, activation='relu')(x)\n",
        "# x = BatchNormalization()(x)\n",
        "# x = Conv2D(filters=64, kernel_size=3, activation='relu')(x)\n",
        "# x = BatchNormalization()(x)\n",
        "# x = Conv2D(filters=128, kernel_size=3, activation='relu')(x)\n",
        "# x = BatchNormalization()(x)\n",
        "# x = Conv2D(filters=256, kernel_size=3, activation='relu')(x)\n",
        "# x = BatchNormalization()(x)\n",
        "# x = Conv2D(filters=512, kernel_size=3, activation='relu')(x)\n",
        "# x = BatchNormalization()(x)\n",
        "# x = GlobalAveragePooling2D()(x)\n",
        "# # x = Flatten()(x)\n",
        "# x = Dense(3, activation=keras.activations.relu)(x)\n",
        "# # x = Dense(128, activation=keras.activations.relu)(x)\n",
        "# prediction = Dense(3, activation='softmax')(x)\n",
        "# model = Model(inputs=inputs, outputs=prediction)"
      ],
      "execution_count": 0,
      "outputs": []
    },
    {
      "cell_type": "code",
      "metadata": {
        "id": "TTlmBvGAeSjx",
        "colab_type": "code",
        "outputId": "f850b8be-007f-49b4-c0e7-77fb3808bc3f",
        "colab": {
          "base_uri": "https://localhost:8080/",
          "height": 823
        }
      },
      "source": [
        "# 2\n",
        "model = Sequential()\n",
        "model.add(Conv2D(filters=16, kernel_size=(3, 3), strides=(2, 2), padding=\"same\", input_shape=(224, 224, 3)))\n",
        "model.add(BatchNormalization())\n",
        "model.add(Activation(\"relu\"))\n",
        "model.add(Conv2D(filters=32, kernel_size=(3, 3), strides=(2, 2), padding=\"same\"))\n",
        "model.add(BatchNormalization())\n",
        "model.add(Activation(\"relu\"))\n",
        "model.add(Conv2D(filters=64, kernel_size=(3, 3), strides=(2, 2), padding=\"same\"))\n",
        "model.add(BatchNormalization())\n",
        "model.add(Activation(\"relu\"))\n",
        "model.add(Conv2D(filters=128, kernel_size=(3, 3), strides=(2, 2), padding=\"same\"))\n",
        "model.add(BatchNormalization())\n",
        "model.add(Activation(\"relu\"))\n",
        "model.add(Conv2D(filters=256, kernel_size=(3, 3), strides=(2, 2), padding=\"same\"))\n",
        "model.add(BatchNormalization())\n",
        "model.add(Activation(\"relu\"))\n",
        "model.add(Conv2D(filters=512, kernel_size=(2, 2), strides=(2, 2), padding=\"same\"))\n",
        "model.add(BatchNormalization())\n",
        "model.add(Activation(\"relu\"))\n",
        "model.add(GlobalAveragePooling2D())\n",
        "# model.add(Flatten())\n",
        "model.add(Dense(3, activation=\"softmax\"))\n",
        "model.compile(loss=\"categorical_crossentropy\", optimizer=\"adam\", metrics=[\"accuracy\"])\n",
        "model.summary()"
      ],
      "execution_count": 0,
      "outputs": [
        {
          "output_type": "stream",
          "text": [
            "Model: \"sequential\"\n",
            "_________________________________________________________________\n",
            "Layer (type)                 Output Shape              Param #   \n",
            "=================================================================\n",
            "conv2d (Conv2D)              (None, 112, 112, 16)      448       \n",
            "_________________________________________________________________\n",
            "batch_normalization (BatchNo (None, 112, 112, 16)      64        \n",
            "_________________________________________________________________\n",
            "activation (Activation)      (None, 112, 112, 16)      0         \n",
            "_________________________________________________________________\n",
            "conv2d_1 (Conv2D)            (None, 56, 56, 32)        4640      \n",
            "_________________________________________________________________\n",
            "batch_normalization_1 (Batch (None, 56, 56, 32)        128       \n",
            "_________________________________________________________________\n",
            "activation_1 (Activation)    (None, 56, 56, 32)        0         \n",
            "_________________________________________________________________\n",
            "conv2d_2 (Conv2D)            (None, 28, 28, 64)        18496     \n",
            "_________________________________________________________________\n",
            "batch_normalization_2 (Batch (None, 28, 28, 64)        256       \n",
            "_________________________________________________________________\n",
            "activation_2 (Activation)    (None, 28, 28, 64)        0         \n",
            "_________________________________________________________________\n",
            "conv2d_3 (Conv2D)            (None, 14, 14, 128)       73856     \n",
            "_________________________________________________________________\n",
            "batch_normalization_3 (Batch (None, 14, 14, 128)       512       \n",
            "_________________________________________________________________\n",
            "activation_3 (Activation)    (None, 14, 14, 128)       0         \n",
            "_________________________________________________________________\n",
            "conv2d_4 (Conv2D)            (None, 7, 7, 256)         295168    \n",
            "_________________________________________________________________\n",
            "batch_normalization_4 (Batch (None, 7, 7, 256)         1024      \n",
            "_________________________________________________________________\n",
            "activation_4 (Activation)    (None, 7, 7, 256)         0         \n",
            "_________________________________________________________________\n",
            "conv2d_5 (Conv2D)            (None, 4, 4, 512)         524800    \n",
            "_________________________________________________________________\n",
            "batch_normalization_5 (Batch (None, 4, 4, 512)         2048      \n",
            "_________________________________________________________________\n",
            "activation_5 (Activation)    (None, 4, 4, 512)         0         \n",
            "_________________________________________________________________\n",
            "global_average_pooling2d (Gl (None, 512)               0         \n",
            "_________________________________________________________________\n",
            "dense (Dense)                (None, 3)                 1539      \n",
            "=================================================================\n",
            "Total params: 922,979\n",
            "Trainable params: 920,963\n",
            "Non-trainable params: 2,016\n",
            "_________________________________________________________________\n"
          ],
          "name": "stdout"
        }
      ]
    },
    {
      "cell_type": "code",
      "metadata": {
        "id": "ezG9tEe7BmTD",
        "colab_type": "code",
        "colab": {}
      },
      "source": [
        "model.summary()"
      ],
      "execution_count": 0,
      "outputs": []
    },
    {
      "cell_type": "code",
      "metadata": {
        "id": "ICNHH6xhEwNs",
        "colab_type": "code",
        "colab": {}
      },
      "source": [
        "keras.utils.plot_model(model, show_shapes=True)"
      ],
      "execution_count": 0,
      "outputs": []
    },
    {
      "cell_type": "code",
      "metadata": {
        "id": "cvfr3-K-E9M7",
        "colab_type": "code",
        "colab": {}
      },
      "source": [
        "# 編譯: 選擇損失函數、優化方法及成效衡量方式\n",
        "model.compile(loss=keras.losses.categorical_crossentropy,\n",
        "              optimizer=keras.optimizers.Adam(),\n",
        "              metrics=['accuracy'])"
      ],
      "execution_count": 0,
      "outputs": []
    },
    {
      "cell_type": "code",
      "metadata": {
        "id": "bly8Sszov1mB",
        "colab_type": "code",
        "outputId": "e48458ea-fe29-4257-b62f-1cd2a060959f",
        "colab": {
          "base_uri": "https://localhost:8080/",
          "height": 84
        }
      },
      "source": [
        "print(x.shape)\n",
        "print(y.shape)\n",
        "print(x_valid.shape)\n",
        "print(y_valid.shape)"
      ],
      "execution_count": 0,
      "outputs": [
        {
          "output_type": "stream",
          "text": [
            "(5600, 224, 224, 3)\n",
            "(5600,)\n",
            "(400, 224, 224, 3)\n",
            "(400, 3)\n"
          ],
          "name": "stdout"
        }
      ]
    },
    {
      "cell_type": "code",
      "metadata": {
        "id": "0TUWVJjWFDTq",
        "colab_type": "code",
        "outputId": "016015bf-01b2-45e3-d9f0-53fd8da0f630",
        "colab": {
          "base_uri": "https://localhost:8080/",
          "height": 521
        }
      },
      "source": [
        "model_history = model.fit(x, y_train_cat,\n",
        "                batch_size=32,\n",
        "                epochs=15,\n",
        "                verbose=1,\n",
        "                validation_data=(x_valid, y_valid))"
      ],
      "execution_count": 0,
      "outputs": [
        {
          "output_type": "stream",
          "text": [
            "Epoch 1/15\n",
            "175/175 [==============================] - 6s 34ms/step - loss: 0.9170 - accuracy: 0.5661 - val_loss: 0.8156 - val_accuracy: 0.6150\n",
            "Epoch 2/15\n",
            "175/175 [==============================] - 6s 33ms/step - loss: 0.8365 - accuracy: 0.6095 - val_loss: 0.7681 - val_accuracy: 0.6350\n",
            "Epoch 3/15\n",
            "175/175 [==============================] - 6s 33ms/step - loss: 0.7951 - accuracy: 0.6421 - val_loss: 0.9091 - val_accuracy: 0.5050\n",
            "Epoch 4/15\n",
            "175/175 [==============================] - 6s 33ms/step - loss: 0.7429 - accuracy: 0.6727 - val_loss: 5.2293 - val_accuracy: 0.0050\n",
            "Epoch 5/15\n",
            "175/175 [==============================] - 6s 33ms/step - loss: 0.6849 - accuracy: 0.7064 - val_loss: 0.9597 - val_accuracy: 0.5975\n",
            "Epoch 6/15\n",
            "175/175 [==============================] - 6s 33ms/step - loss: 0.5960 - accuracy: 0.7437 - val_loss: 1.4652 - val_accuracy: 0.4000\n",
            "Epoch 7/15\n",
            "175/175 [==============================] - 6s 33ms/step - loss: 0.4664 - accuracy: 0.8061 - val_loss: 1.7405 - val_accuracy: 0.4175\n",
            "Epoch 8/15\n",
            "175/175 [==============================] - 6s 33ms/step - loss: 0.3411 - accuracy: 0.8684 - val_loss: 1.0544 - val_accuracy: 0.5900\n",
            "Epoch 9/15\n",
            "175/175 [==============================] - 6s 33ms/step - loss: 0.2304 - accuracy: 0.9127 - val_loss: 2.4490 - val_accuracy: 0.4425\n",
            "Epoch 10/15\n",
            "175/175 [==============================] - 6s 33ms/step - loss: 0.1400 - accuracy: 0.9518 - val_loss: 2.1354 - val_accuracy: 0.5000\n",
            "Epoch 11/15\n",
            "175/175 [==============================] - 6s 33ms/step - loss: 0.1204 - accuracy: 0.9586 - val_loss: 1.3331 - val_accuracy: 0.6075\n",
            "Epoch 12/15\n",
            "175/175 [==============================] - 6s 33ms/step - loss: 0.0895 - accuracy: 0.9698 - val_loss: 1.4858 - val_accuracy: 0.6100\n",
            "Epoch 13/15\n",
            "175/175 [==============================] - 6s 33ms/step - loss: 0.0643 - accuracy: 0.9789 - val_loss: 3.9929 - val_accuracy: 0.3800\n",
            "Epoch 14/15\n",
            "175/175 [==============================] - 6s 33ms/step - loss: 0.0779 - accuracy: 0.9723 - val_loss: 1.5837 - val_accuracy: 0.6550\n",
            "Epoch 15/15\n",
            "175/175 [==============================] - 6s 33ms/step - loss: 0.0563 - accuracy: 0.9818 - val_loss: 4.4364 - val_accuracy: 0.3675\n"
          ],
          "name": "stdout"
        }
      ]
    },
    {
      "cell_type": "code",
      "metadata": {
        "id": "YuPhKEd7FZUU",
        "colab_type": "code",
        "colab": {}
      },
      "source": [
        "zhistory = model_history.history"
      ],
      "execution_count": 0,
      "outputs": []
    },
    {
      "cell_type": "code",
      "metadata": {
        "id": "ooFjiVD1Feje",
        "colab_type": "code",
        "outputId": "d2d17bad-b4a0-49a0-a95f-68799f3b6d01",
        "colab": {
          "base_uri": "https://localhost:8080/",
          "height": 298
        }
      },
      "source": [
        "plt.plot(zhistory['accuracy'])\n",
        "plt.plot(zhistory['val_accuracy'])\n",
        "plt.legend(['acc', 'val_acc'])\n",
        "plt.title('acc')"
      ],
      "execution_count": 0,
      "outputs": [
        {
          "output_type": "execute_result",
          "data": {
            "text/plain": [
              "Text(0.5, 1.0, 'acc')"
            ]
          },
          "metadata": {
            "tags": []
          },
          "execution_count": 37
        },
        {
          "output_type": "display_data",
          "data": {
            "image/png": "[encoded data removed]",
            "text/plain": [
              "<Figure size 432x288 with 1 Axes>"
            ]
          },
          "metadata": {
            "tags": [],
            "needs_background": "light"
          }
        }
      ]
    },
    {
      "cell_type": "code",
      "metadata": {
        "id": "U3fH0TbeFkfD",
        "colab_type": "code",
        "outputId": "d28e1256-3e76-4933-9a0b-8465b1d4af92",
        "colab": {
          "base_uri": "https://localhost:8080/",
          "height": 298
        }
      },
      "source": [
        "plt.plot(zhistory['loss'])\n",
        "plt.plot(zhistory['val_loss'])\n",
        "plt.legend(['loss', 'val_loss'])\n",
        "plt.title('loss')"
      ],
      "execution_count": 0,
      "outputs": [
        {
          "output_type": "execute_result",
          "data": {
            "text/plain": [
              "Text(0.5, 1.0, 'loss')"
            ]
          },
          "metadata": {
            "tags": []
          },
          "execution_count": 38
        },
        {
          "output_type": "display_data",
          "data": {
            "image/png": "[encoded data removed]",
            "text/plain": [
              "<Figure size 432x288 with 1 Axes>"
            ]
          },
          "metadata": {
            "tags": [],
            "needs_background": "light"
          }
        }
      ]
    },
    {
      "cell_type": "code",
      "metadata": {
        "id": "Sro8TzL6FmPJ",
        "colab_type": "code",
        "outputId": "fb2cfdc3-ec4d-4599-f140-fde98fb462c4",
        "colab": {
          "base_uri": "https://localhost:8080/",
          "height": 306
        }
      },
      "source": [
        "from sklearn.metrics import classification_report, confusion_matrix\n",
        "y_true = np.argmax(y_test, axis=-1)\n",
        "y_pred = np.argmax(model.predict(x_test), axis=-1)   #argmax 將每格中最大的值丟出\n",
        "print(y_true.shape, y_pred.shape)\n",
        "target_names = [str(i) for i in range(3)]\n",
        "print(classification_report(y_true, y_pred, target_names=target_names))\n",
        "print(confusion_matrix(y_true, y_pred))\n"
      ],
      "execution_count": 0,
      "outputs": [
        {
          "output_type": "stream",
          "text": [
            "(400,) (400,)\n",
            "              precision    recall  f1-score   support\n",
            "\n",
            "           0       0.00      0.00      0.00         0\n",
            "           1       0.55      0.20      0.29       136\n",
            "           2       0.72      0.86      0.78       264\n",
            "\n",
            "    accuracy                           0.63       400\n",
            "   macro avg       0.42      0.35      0.36       400\n",
            "weighted avg       0.66      0.63      0.61       400\n",
            "\n",
            "[[  0   0   0]\n",
            " [ 20  27  89]\n",
            " [ 16  22 226]]\n"
          ],
          "name": "stdout"
        },
        {
          "output_type": "stream",
          "text": [
            "/usr/local/lib/python3.6/dist-packages/sklearn/metrics/_classification.py:1272: UndefinedMetricWarning: Recall and F-score are ill-defined and being set to 0.0 in labels with no true samples. Use `zero_division` parameter to control this behavior.\n",
            "  _warn_prf(average, modifier, msg_start, len(result))\n"
          ],
          "name": "stderr"
        }
      ]
    }
  ]
}