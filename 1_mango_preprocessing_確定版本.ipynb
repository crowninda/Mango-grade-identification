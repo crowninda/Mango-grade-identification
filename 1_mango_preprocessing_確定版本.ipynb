{
  "nbformat": 4,
  "nbformat_minor": 0,
  "metadata": {
    "colab": {
      "name": "1.mango_preprocessing_確定版本.ipynb",
      "provenance": [],
      "collapsed_sections": []
    },
    "kernelspec": {
      "name": "python3",
      "display_name": "Python 3"
    },
    "accelerator": "GPU",
    "widgets": {
      "application/vnd.jupyter.widget-state+json": {
        "a6c06b5ee4574c05b6ad4a5a43337559": {
          "model_module": "@jupyter-widgets/controls",
          "model_name": "HBoxModel",
          "state": {
            "_view_name": "HBoxView",
            "_dom_classes": [],
            "_model_name": "HBoxModel",
            "_view_module": "@jupyter-widgets/controls",
            "_model_module_version": "1.5.0",
            "_view_count": null,
            "_view_module_version": "1.5.0",
            "box_style": "",
            "layout": "IPY_MODEL_2b3db2a1d44f44198c19dc461dfea8d4",
            "_model_module": "@jupyter-widgets/controls",
            "children": [
              "IPY_MODEL_befd877c27e2498cb0e97d4186e07b33",
              "IPY_MODEL_cc70a3473d7c490194e2e2ce22e55bc1"
            ]
          }
        },
        "2b3db2a1d44f44198c19dc461dfea8d4": {
          "model_module": "@jupyter-widgets/base",
          "model_name": "LayoutModel",
          "state": {
            "_view_name": "LayoutView",
            "grid_template_rows": null,
            "right": null,
            "justify_content": null,
            "_view_module": "@jupyter-widgets/base",
            "overflow": null,
            "_model_module_version": "1.2.0",
            "_view_count": null,
            "flex_flow": null,
            "width": null,
            "min_width": null,
            "border": null,
            "align_items": null,
            "bottom": null,
            "_model_module": "@jupyter-widgets/base",
            "top": null,
            "grid_column": null,
            "overflow_y": null,
            "overflow_x": null,
            "grid_auto_flow": null,
            "grid_area": null,
            "grid_template_columns": null,
            "flex": null,
            "_model_name": "LayoutModel",
            "justify_items": null,
            "grid_row": null,
            "max_height": null,
            "align_content": null,
            "visibility": null,
            "align_self": null,
            "height": null,
            "min_height": null,
            "padding": null,
            "grid_auto_rows": null,
            "grid_gap": null,
            "max_width": null,
            "order": null,
            "_view_module_version": "1.2.0",
            "grid_template_areas": null,
            "object_position": null,
            "object_fit": null,
            "grid_auto_columns": null,
            "margin": null,
            "display": null,
            "left": null
          }
        },
        "befd877c27e2498cb0e97d4186e07b33": {
          "model_module": "@jupyter-widgets/controls",
          "model_name": "FloatProgressModel",
          "state": {
            "_view_name": "ProgressView",
            "style": "IPY_MODEL_28fb24aa573b4f31b507a9496477d540",
            "_dom_classes": [],
            "description": "",
            "_model_name": "FloatProgressModel",
            "bar_style": "success",
            "max": 1,
            "_view_module": "@jupyter-widgets/controls",
            "_model_module_version": "1.5.0",
            "value": 1,
            "_view_count": null,
            "_view_module_version": "1.5.0",
            "orientation": "horizontal",
            "min": 0,
            "description_tooltip": null,
            "_model_module": "@jupyter-widgets/controls",
            "layout": "IPY_MODEL_58f1a3fff13845ff8007cfa18ff5a63a"
          }
        },
        "cc70a3473d7c490194e2e2ce22e55bc1": {
          "model_module": "@jupyter-widgets/controls",
          "model_name": "HTMLModel",
          "state": {
            "_view_name": "HTMLView",
            "style": "IPY_MODEL_01e391f4d53d4cc5b995d96be0949652",
            "_dom_classes": [],
            "description": "",
            "_model_name": "HTMLModel",
            "placeholder": "​",
            "_view_module": "@jupyter-widgets/controls",
            "_model_module_version": "1.5.0",
            "value": " 5600/? [27:17&lt;00:00,  3.42it/s]",
            "_view_count": null,
            "_view_module_version": "1.5.0",
            "description_tooltip": null,
            "_model_module": "@jupyter-widgets/controls",
            "layout": "IPY_MODEL_69c7b4d1258342f1a3d776ed703127af"
          }
        },
        "28fb24aa573b4f31b507a9496477d540": {
          "model_module": "@jupyter-widgets/controls",
          "model_name": "ProgressStyleModel",
          "state": {
            "_view_name": "StyleView",
            "_model_name": "ProgressStyleModel",
            "description_width": "initial",
            "_view_module": "@jupyter-widgets/base",
            "_model_module_version": "1.5.0",
            "_view_count": null,
            "_view_module_version": "1.2.0",
            "bar_color": null,
            "_model_module": "@jupyter-widgets/controls"
          }
        },
        "58f1a3fff13845ff8007cfa18ff5a63a": {
          "model_module": "@jupyter-widgets/base",
          "model_name": "LayoutModel",
          "state": {
            "_view_name": "LayoutView",
            "grid_template_rows": null,
            "right": null,
            "justify_content": null,
            "_view_module": "@jupyter-widgets/base",
            "overflow": null,
            "_model_module_version": "1.2.0",
            "_view_count": null,
            "flex_flow": null,
            "width": null,
            "min_width": null,
            "border": null,
            "align_items": null,
            "bottom": null,
            "_model_module": "@jupyter-widgets/base",
            "top": null,
            "grid_column": null,
            "overflow_y": null,
            "overflow_x": null,
            "grid_auto_flow": null,
            "grid_area": null,
            "grid_template_columns": null,
            "flex": null,
            "_model_name": "LayoutModel",
            "justify_items": null,
            "grid_row": null,
            "max_height": null,
            "align_content": null,
            "visibility": null,
            "align_self": null,
            "height": null,
            "min_height": null,
            "padding": null,
            "grid_auto_rows": null,
            "grid_gap": null,
            "max_width": null,
            "order": null,
            "_view_module_version": "1.2.0",
            "grid_template_areas": null,
            "object_position": null,
            "object_fit": null,
            "grid_auto_columns": null,
            "margin": null,
            "display": null,
            "left": null
          }
        },
        "01e391f4d53d4cc5b995d96be0949652": {
          "model_module": "@jupyter-widgets/controls",
          "model_name": "DescriptionStyleModel",
          "state": {
            "_view_name": "StyleView",
            "_model_name": "DescriptionStyleModel",
            "description_width": "",
            "_view_module": "@jupyter-widgets/base",
            "_model_module_version": "1.5.0",
            "_view_count": null,
            "_view_module_version": "1.2.0",
            "_model_module": "@jupyter-widgets/controls"
          }
        },
        "69c7b4d1258342f1a3d776ed703127af": {
          "model_module": "@jupyter-widgets/base",
          "model_name": "LayoutModel",
          "state": {
            "_view_name": "LayoutView",
            "grid_template_rows": null,
            "right": null,
            "justify_content": null,
            "_view_module": "@jupyter-widgets/base",
            "overflow": null,
            "_model_module_version": "1.2.0",
            "_view_count": null,
            "flex_flow": null,
            "width": null,
            "min_width": null,
            "border": null,
            "align_items": null,
            "bottom": null,
            "_model_module": "@jupyter-widgets/base",
            "top": null,
            "grid_column": null,
            "overflow_y": null,
            "overflow_x": null,
            "grid_auto_flow": null,
            "grid_area": null,
            "grid_template_columns": null,
            "flex": null,
            "_model_name": "LayoutModel",
            "justify_items": null,
            "grid_row": null,
            "max_height": null,
            "align_content": null,
            "visibility": null,
            "align_self": null,
            "height": null,
            "min_height": null,
            "padding": null,
            "grid_auto_rows": null,
            "grid_gap": null,
            "max_width": null,
            "order": null,
            "_view_module_version": "1.2.0",
            "grid_template_areas": null,
            "object_position": null,
            "object_fit": null,
            "grid_auto_columns": null,
            "margin": null,
            "display": null,
            "left": null
          }
        }
      }
    }
  },
  "cells": [
    {
      "cell_type": "code",
      "metadata": {
        "id": "9F_GKz_c6UGW",
        "colab_type": "code",
        "colab": {}
      },
      "source": [
        "# 目前遇到的問題是不會資料預處理 \n",
        "# 將資料存到numpy 的 npz檔 之後\n",
        "# 要做image generate"
      ],
      "execution_count": null,
      "outputs": []
    },
    {
      "cell_type": "code",
      "metadata": {
        "id": "ZtX5ZzdSmk4J",
        "colab_type": "code",
        "colab": {
          "base_uri": "https://localhost:8080/",
          "height": 121
        },
        "outputId": "364654ef-3af0-439d-9c63-a11b30d69a4d"
      },
      "source": [
        "# 連結google\n",
        "from google.colab import drive\n",
        "drive.mount('/content/drive')"
      ],
      "execution_count": null,
      "outputs": [
        {
          "output_type": "stream",
          "text": [
            "Go to this URL in a browser: https://accounts.google.com/o/oauth2/auth?client_id=947318989803-6bn6qk8qdgf4n4g3pfee6491hc0brc4i.apps.googleusercontent.com&redirect_uri=urn%3aietf%3awg%3aoauth%3a2.0%3aoob&response_type=code&scope=email%20https%3a%2f%2fwww.googleapis.com%2fauth%2fdocs.test%20https%3a%2f%2fwww.googleapis.com%2fauth%2fdrive%20https%3a%2f%2fwww.googleapis.com%2fauth%2fdrive.photos.readonly%20https%3a%2f%2fwww.googleapis.com%2fauth%2fpeopleapi.readonly\n",
            "\n",
            "Enter your authorization code:\n",
            "··········\n",
            "Mounted at /content/drive\n"
          ],
          "name": "stdout"
        }
      ]
    },
    {
      "cell_type": "code",
      "metadata": {
        "id": "s5PP5EmSoxU1",
        "colab_type": "code",
        "colab": {
          "base_uri": "https://localhost:8080/",
          "height": 87
        },
        "outputId": "6ff5ac40-92c0-45a8-9c13-20a5a960f078"
      },
      "source": [
        "#  載入套件\n",
        "from glob import glob\n",
        "import cv2\n",
        "import matplotlib.pyplot as plt\n",
        "import numpy as np\n",
        "from tensorflow.keras.preprocessing.image import img_to_array\n",
        "from tqdm.auto import tqdm\n",
        "import keras\n",
        "import os\n",
        "import csv\n",
        "from shutil import copyfile\n",
        "from keras.layers import Input, Dense, Conv2D, MaxPool2D, Flatten\n",
        "from keras.models import Model\n",
        "from sklearn.model_selection import train_test_split\n",
        "import seaborn as sns\n",
        "import pandas as pd"
      ],
      "execution_count": null,
      "outputs": [
        {
          "output_type": "stream",
          "text": [
            "Using TensorFlow backend.\n",
            "/usr/local/lib/python3.6/dist-packages/statsmodels/tools/_testing.py:19: FutureWarning: pandas.util.testing is deprecated. Use the functions in the public API at pandas.testing instead.\n",
            "  import pandas.util.testing as tm\n"
          ],
          "name": "stderr"
        }
      ]
    },
    {
      "cell_type": "code",
      "metadata": {
        "id": "Vp-BNFoQtsaY",
        "colab_type": "code",
        "colab": {
          "base_uri": "https://localhost:8080/",
          "height": 84
        },
        "outputId": "301a278b-3701-4efc-c4a4-c424563befd4"
      },
      "source": [
        "df = pd.read_csv(\"/content/drive/My Drive/Colab Notebooks/AIMango/train.csv\", encoding=\"utf-8\")\n",
        "df[\"label\"].value_counts()"
      ],
      "execution_count": null,
      "outputs": [
        {
          "output_type": "execute_result",
          "data": {
            "text/plain": [
              "B    2068\n",
              "A    1792\n",
              "C    1740\n",
              "Name: label, dtype: int64"
            ]
          },
          "metadata": {
            "tags": []
          },
          "execution_count": 3
        }
      ]
    },
    {
      "cell_type": "code",
      "metadata": {
        "id": "cUM5MaKwuwnL",
        "colab_type": "code",
        "colab": {}
      },
      "source": [
        "cls = {\"A\":0, \"B\":1, \"C\":2}"
      ],
      "execution_count": null,
      "outputs": []
    },
    {
      "cell_type": "code",
      "metadata": {
        "id": "oxoUEQfYU4o-",
        "colab_type": "code",
        "colab": {
          "base_uri": "https://localhost:8080/",
          "height": 66,
          "referenced_widgets": [
            "a6c06b5ee4574c05b6ad4a5a43337559",
            "2b3db2a1d44f44198c19dc461dfea8d4",
            "befd877c27e2498cb0e97d4186e07b33",
            "cc70a3473d7c490194e2e2ce22e55bc1",
            "28fb24aa573b4f31b507a9496477d540",
            "58f1a3fff13845ff8007cfa18ff5a63a",
            "01e391f4d53d4cc5b995d96be0949652",
            "69c7b4d1258342f1a3d776ed703127af"
          ]
        },
        "outputId": "ce51ffa4-52c4-43b5-f144-0b9302d6840e"
      },
      "source": [
        "# x_train處理\n",
        "data = np.empty((5600,224,224,3),dtype=np.float32)\n",
        "label = np.empty((5600,),dtype=np.float64)\n",
        "IMG_SIZE = 224\n",
        "\n",
        "with open(\"/content/drive/My Drive/Colab Notebooks/AIMango/train.csv\", \"r\", encoding=\"utf-8\") as file:\n",
        "  csvfile = csv.reader(file)\n",
        "  next(csvfile)\n",
        "  \n",
        "  for i, row in tqdm(enumerate(csvfile)):\n",
        "    label[i] = cls[row[1]]\n",
        "    # if row[1] == \"A\":\n",
        "    #   label.append(0)\n",
        "    # elif row[1] == \"B\":\n",
        "    #   label.append(1)    \n",
        "    # elif row[1] == \"C\":\n",
        "    #   label.append(2)\n",
        "\n",
        "    img = cv2.imread('/content/drive/My Drive/Colab Notebooks/AIMango/C1-P1_Train/'+ row[0])\n",
        "    img = img[:,:,::-1]\n",
        "    img = cv2.resize(img, (IMG_SIZE, IMG_SIZE))\n",
        "    # img = img/255.0   因為caffe,tf,pythorch用的不一樣所以不要先/255\n",
        "    img = img_to_array(img)\n",
        "    data[i] =img\n",
        "\n",
        "      \n"
      ],
      "execution_count": null,
      "outputs": [
        {
          "output_type": "display_data",
          "data": {
            "application/vnd.jupyter.widget-view+json": {
              "model_id": "a6c06b5ee4574c05b6ad4a5a43337559",
              "version_minor": 0,
              "version_major": 2
            },
            "text/plain": [
              "HBox(children=(FloatProgress(value=1.0, bar_style='info', max=1.0), HTML(value='')))"
            ]
          },
          "metadata": {
            "tags": []
          }
        },
        {
          "output_type": "stream",
          "text": [
            "\n"
          ],
          "name": "stdout"
        }
      ]
    },
    {
      "cell_type": "code",
      "metadata": {
        "id": "aQ_xnURsUkW7",
        "colab_type": "code",
        "colab": {}
      },
      "source": [
        "# 處理y_train資料\n",
        "from tensorflow.keras.utils import to_categorical\n",
        "# for i in range(len(data)):\n",
        "#   data[i] = data[i].astype(\"float32\")\n",
        "y_train = to_categorical(label, num_classes=3)\n",
        "# y_train = np.array(y_train)"
      ],
      "execution_count": null,
      "outputs": []
    },
    {
      "cell_type": "code",
      "metadata": {
        "id": "AE90rU2iWLYc",
        "colab_type": "code",
        "colab": {
          "base_uri": "https://localhost:8080/",
          "height": 857
        },
        "outputId": "daf01245-ab39-4485-e264-e13003663f97"
      },
      "source": [
        "print(y_train[0])\n",
        "print(data[0])"
      ],
      "execution_count": null,
      "outputs": [
        {
          "output_type": "stream",
          "text": [
            "[0. 0. 1.]\n",
            "[[[223. 196.  43.]\n",
            "  [222. 196.  37.]\n",
            "  [220. 195.  32.]\n",
            "  ...\n",
            "  [  1.   1.   0.]\n",
            "  [  4.   4.   2.]\n",
            "  [  2.   2.   0.]]\n",
            "\n",
            " [[221. 195.  38.]\n",
            "  [220. 194.  37.]\n",
            "  [218. 192.  33.]\n",
            "  ...\n",
            "  [  3.   3.   2.]\n",
            "  [  3.   3.   1.]\n",
            "  [  1.   1.   0.]]\n",
            "\n",
            " [[220. 195.  33.]\n",
            "  [219. 193.  36.]\n",
            "  [217. 191.  36.]\n",
            "  ...\n",
            "  [  3.   3.   1.]\n",
            "  [  3.   3.   1.]\n",
            "  [  3.   3.   1.]]\n",
            "\n",
            " ...\n",
            "\n",
            " [[220. 181.   0.]\n",
            "  [225. 187.   2.]\n",
            "  [228. 190.   2.]\n",
            "  ...\n",
            "  [101.  76.  80.]\n",
            "  [104.  79.  83.]\n",
            "  [ 99.  74.  78.]]\n",
            "\n",
            " [[220. 181.   2.]\n",
            "  [221. 182.   0.]\n",
            "  [225. 187.   2.]\n",
            "  ...\n",
            "  [ 99.  74.  78.]\n",
            "  [100.  75.  79.]\n",
            "  [104.  79.  83.]]\n",
            "\n",
            " [[218. 178.   2.]\n",
            "  [219. 180.   0.]\n",
            "  [223. 184.   0.]\n",
            "  ...\n",
            "  [100.  75.  79.]\n",
            "  [ 99.  74.  78.]\n",
            "  [100.  75.  79.]]]\n"
          ],
          "name": "stdout"
        }
      ]
    },
    {
      "cell_type": "code",
      "metadata": {
        "id": "YNU6o94qWOTg",
        "colab_type": "code",
        "colab": {}
      },
      "source": [
        "np.savez('/content/drive/My Drive/Colab Notebooks/AIMango/train1_preprocess.npz', x=data, y=y_train)"
      ],
      "execution_count": null,
      "outputs": []
    },
    {
      "cell_type": "code",
      "metadata": {
        "id": "oDCFqmRuZdt6",
        "colab_type": "code",
        "colab": {}
      },
      "source": [
        "# 確認train資料能讀取\n",
        "train = np.load('/content/drive/My Drive/Colab Notebooks/AIMango/train1_preprocess.npz')"
      ],
      "execution_count": null,
      "outputs": []
    },
    {
      "cell_type": "code",
      "metadata": {
        "id": "PftdM71EZqCi",
        "colab_type": "code",
        "colab": {}
      },
      "source": [
        "x_train = train['x']\n",
        "y_train = train['y']"
      ],
      "execution_count": null,
      "outputs": []
    },
    {
      "cell_type": "code",
      "metadata": {
        "id": "W7eF5YQYmZve",
        "colab_type": "code",
        "colab": {}
      },
      "source": [
        "print(x_train[0])\n",
        "print(y_train[0])"
      ],
      "execution_count": null,
      "outputs": []
    },
    {
      "cell_type": "code",
      "metadata": {
        "id": "TzZJl6m9Z_0N",
        "colab_type": "code",
        "colab": {}
      },
      "source": [
        "# x_test處理\n",
        "data = np.empty((800,224,224,3),dtype=np.float32)\n",
        "label = np.empty((800,),dtype=np.float64)\n",
        "IMG_SIZE = 224\n",
        "\n",
        "with open(\"/content/drive/My Drive/Colab Notebooks/AIMango/dev.csv\", \"r\", encoding=\"utf-8\") as file:\n",
        "  csvfile = csv.reader(file)\n",
        "  next(csvfile)\n",
        "\n",
        "  for i, row in tqdm(enumerate(csvfile)):\n",
        "    label[i] = cls[row[1]]\n",
        "    # if row[1] == \"A\":\n",
        "    #   label.append(0)\n",
        "    # elif row[1] == \"B\":\n",
        "    #   label.append(1)    \n",
        "    # elif row[1] == \"C\":\n",
        "    #   label.append(2)\n",
        "    \n",
        "\n",
        "    img = cv2.imread('/content/drive/My Drive/Colab Notebooks/AIMango/C1-P1_Dev/'+row[0])\n",
        "    img_path = row[0]\n",
        "    img2 = img[:,:,::-1]\n",
        "    res = cv2.resize(img2, (IMG_SIZE, IMG_SIZE))\n",
        "    # img = img/255.0 因為caffe,tf,pythorch用的不一樣所以不要先/255\n",
        "    res = img_to_array(res)\n",
        "    data[i] = res\n",
        "  \n",
        "      "
      ],
      "execution_count": null,
      "outputs": []
    },
    {
      "cell_type": "code",
      "metadata": {
        "id": "-YwsnACIcO_d",
        "colab_type": "code",
        "colab": {
          "base_uri": "https://localhost:8080/",
          "height": 34
        },
        "outputId": "da074bc2-d5d5-4e46-eca4-60a4298e902d"
      },
      "source": [
        "print(data[0].dtype)"
      ],
      "execution_count": null,
      "outputs": [
        {
          "output_type": "stream",
          "text": [
            "float32\n"
          ],
          "name": "stdout"
        }
      ]
    },
    {
      "cell_type": "code",
      "metadata": {
        "id": "9ofPuizWmipX",
        "colab_type": "code",
        "colab": {}
      },
      "source": [
        "# 處理y_test資料\n",
        "from tensorflow.keras.utils import to_categorical\n",
        "for i in range(len(data)):\n",
        "  # datas[i] = datas[i].astype(\"float32\")/255\n",
        "  data[i] = data[i].astype(\"float32\")\n",
        "y_test = to_categorical(label, num_classes=3)\n",
        "y_test = np.array(y_test)"
      ],
      "execution_count": null,
      "outputs": []
    },
    {
      "cell_type": "code",
      "metadata": {
        "id": "m74CQN2Omzq5",
        "colab_type": "code",
        "colab": {
          "base_uri": "https://localhost:8080/",
          "height": 50
        },
        "outputId": "c2a3ed66-dcb7-483c-8f23-7434cd60d0c1"
      },
      "source": [
        "print(data[0].dtype)\n",
        "print(y_test[0])"
      ],
      "execution_count": null,
      "outputs": [
        {
          "output_type": "stream",
          "text": [
            "float32\n",
            "[0. 1. 0.]\n"
          ],
          "name": "stdout"
        }
      ]
    },
    {
      "cell_type": "code",
      "metadata": {
        "id": "yRgDznnTm2mQ",
        "colab_type": "code",
        "colab": {}
      },
      "source": [
        "np.savez('/content/drive/My Drive/Colab Notebooks/AIMango/test1_preprocess.npz', x=data, y=y_test)"
      ],
      "execution_count": null,
      "outputs": []
    },
    {
      "cell_type": "code",
      "metadata": {
        "id": "--CEaz0Rm-hb",
        "colab_type": "code",
        "colab": {}
      },
      "source": [
        "# 確認test資料能讀取\n",
        "test = np.load('/content/drive/My Drive/Colab Notebooks/AIMango/test1_preprocess.npz')"
      ],
      "execution_count": null,
      "outputs": []
    },
    {
      "cell_type": "code",
      "metadata": {
        "id": "2pU43H6znCeT",
        "colab_type": "code",
        "colab": {}
      },
      "source": [
        "x_test = test['x']\n",
        "y_test = test['y']"
      ],
      "execution_count": null,
      "outputs": []
    },
    {
      "cell_type": "code",
      "metadata": {
        "id": "D4lkgd8MnJ53",
        "colab_type": "code",
        "colab": {
          "base_uri": "https://localhost:8080/",
          "height": 50
        },
        "outputId": "454d9637-9d2e-4872-88b3-bf6f53c3eda5"
      },
      "source": [
        "print(x_test[0].dtype)\n",
        "print(y_test[0])"
      ],
      "execution_count": null,
      "outputs": [
        {
          "output_type": "stream",
          "text": [
            "float32\n",
            "[0. 1. 0.]\n"
          ],
          "name": "stdout"
        }
      ]
    },
    {
      "cell_type": "code",
      "metadata": {
        "id": "kI7ZWcCJvksa",
        "colab_type": "code",
        "colab": {}
      },
      "source": [
        ""
      ],
      "execution_count": null,
      "outputs": []
    },
    {
      "cell_type": "code",
      "metadata": {
        "id": "Nvp3fgjutrMh",
        "colab_type": "code",
        "colab": {}
      },
      "source": [
        ""
      ],
      "execution_count": null,
      "outputs": []
    }
  ]
}